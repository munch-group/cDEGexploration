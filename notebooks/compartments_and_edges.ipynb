{
 "cells": [
  {
   "cell_type": "markdown",
   "id": "837984b5-14f0-493b-843b-d4b705429285",
   "metadata": {},
   "source": [
    "# Compartments and edges"
   ]
  },
  {
   "cell_type": "code",
   "execution_count": null,
   "id": "3635c38d-2b45-4c2e-978a-ac76a1de4b20",
   "metadata": {},
   "outputs": [],
   "source": [
    "import pandas as pd\n",
    "import numpy as np\n",
    "import matplotlib.pyplot as plt\n",
    "import seaborn as sns\n",
    "%config InlineBackend.figure_format='svg'\n",
    "\n",
    "def plot_intervals(query=None, annot=None, **kwargs):\n",
    "\n",
    "    import matplotlib.pyplot as plt\n",
    "\n",
    "    vlines = kwargs.get('vlines', [])\n",
    "    if 'vlines' in kwargs: del kwargs['vlines']\n",
    "    figsize = kwargs.get('figsize', (8, 1.5*len(kwargs)-1))\n",
    "    if 'figsize' in kwargs: del kwargs['figsize']\n",
    "\n",
    "    tups = list(kwargs.items())\n",
    "    tups = reversed(tups)\n",
    "\n",
    "    df_list = []\n",
    "    labels = []\n",
    "    for label, df in tups:\n",
    "        labels.append(label)\n",
    "        df['label'] = np.repeat(label, df.index.size)\n",
    "        df_list.append(df)\n",
    "    bigdf = pd.concat(df_list)\n",
    "\n",
    "    bigdf['chrom'] = pd.Categorical(bigdf['chrom'], bigdf['chrom'].unique())\n",
    "    bigdf['label'] = pd.Categorical(bigdf['label'], bigdf['label'].unique())\n",
    "\n",
    "    gr = bigdf.groupby('chrom', observed=False)\n",
    "\n",
    "    fig, axes = plt.subplots(gr.ngroups, 1, figsize=figsize, \n",
    "                            sharey=True\n",
    "                            #  sharex=True\n",
    "                             )\n",
    "    if type(axes) is not np.ndarray:\n",
    "        # in case there is only one axis so it not returned as a list\n",
    "        axes = [axes]\n",
    "    \n",
    "    for i, chrom in enumerate(gr.groups):\n",
    "        _df = gr.get_group(chrom)\n",
    "        _gr = _df.groupby('label', observed=False)\n",
    "        for y, label in enumerate(_gr.groups):\n",
    "            try:\n",
    "                df = _gr.get_group(label)\n",
    "            except KeyError:\n",
    "                continue\n",
    "            y = np.repeat(y, df.index.size)\n",
    "            axes[i].hlines(y, df.start.tolist(), df.end.tolist(), lw=10, colors=f'C{y[0]}', capstyle='butt')\n",
    "            delta = len(labels)/10\n",
    "\n",
    "        axes[i].spines['top'].set_visible(False)\n",
    "        axes[i].spines['left'].set_visible(False)\n",
    "        axes[i].spines['right'].set_visible(False)\n",
    "\n",
    "        axes[i].set_yticks(list(range(len(labels))), labels)\n",
    "        axes[i].tick_params(axis='y', which='both', left=False)\n",
    "        axes[i].set_ylim(-1, len(labels)-0.7)\n",
    "        # axes[i].set_xlim(df.start.min()-delta, df.end.max()+delta)\n",
    "        if i != gr.ngroups-1:\n",
    "            axes[i].tick_params(axis='x', which='both', bottom=False)\n",
    "\n",
    "        axes[i].set_title(chrom, loc='left', fontsize=10)\n",
    "\n",
    "    for y, ax in enumerate(axes):\n",
    "        y = np.repeat(y, len(vlines))\n",
    "        axes[i].vlines(vlines, *ax.get_ylim(), lw=0.1, colors='black', zorder=0)\n",
    "    \n",
    "    plt.tight_layout()\n",
    "    return axes\n",
    "\n",
    "def stairs(df, start='start', end='end', pos='pos', endtrim=0):\n",
    "    \"Turn a df with start, end into one with pos to plot as stairs\"\n",
    "    df1 = df.copy(deep=True)\n",
    "    df2 = df.copy(deep=True)\n",
    "    df1[pos] = df1[start]\n",
    "    df2[pos] = df2[end] - endtrim\n",
    "    return pd.concat([df1, df2]).sort_values([start, end])"
   ]
  },
  {
   "cell_type": "markdown",
   "id": "d21034d9-2335-4a11-93cf-83fd78ebb9d0",
   "metadata": {},
   "source": [
    "## Read in 100kb windows"
   ]
  },
  {
   "cell_type": "code",
   "execution_count": null,
   "id": "8a1f6d41-0ca6-49b4-bfae-a64a32cf9db3",
   "metadata": {},
   "outputs": [],
   "source": [
    "e1_100kb = pd.read_csv('rec_compartments/round_spermatid_e1_100kb_arms.csv')\n",
    "e1_100kb['start'] = [i*100_000 for i in range(e1_100kb.index.size)]\n",
    "e1_100kb['end'] = e1_100kb.start + 100_000\n",
    "e1_100kb['sign'] = np.sign(e1_100kb.e1)\n",
    "\n",
    "plot_df = stairs(e1_100kb)\n",
    "plt.figure(figsize=(12, 3))\n",
    "plt.fill_between(plot_df.pos, plot_df.e1) ;"
   ]
  },
  {
   "cell_type": "markdown",
   "id": "db900f0c-b68d-44ba-a743-5f67c65ce327",
   "metadata": {},
   "source": [
    "## Call compartments"
   ]
  },
  {
   "cell_type": "code",
   "execution_count": null,
   "id": "83965932-f0f0-48d6-969f-da29e5b1b441",
   "metadata": {},
   "outputs": [],
   "source": [
    "e1_100kb['segment_id'] = ((e1_100kb.sign.shift() != e1_100kb.sign)).cumsum()\n",
    "\n",
    "comp = e1_100kb.groupby('segment_id', as_index=False).agg(dict(\n",
    "     e1=['mean', 'sum'], \n",
    "     start='min', \n",
    "     end='max', \n",
    "     segment_id='mean', \n",
    "     sign='mean'\n",
    "))\n",
    "comp.columns = ['_'.join(col).strip() for col in comp.columns.values]\n",
    "comp = comp.rename(\n",
    "    columns={'start_min':'start',\n",
    "             'end_max':'end', \n",
    "             'segment_id_mean':'segment_id', \n",
    "             'sign_mean':'sign'}\n",
    ")\n",
    "comp['comp'] = ['A' if x > 0 else 'B' for x in comp.sign]\n",
    "comp = comp.reset_index()\n",
    "comp['chrom'] = 'chrX'"
   ]
  },
  {
   "cell_type": "markdown",
   "id": "a91da7cf-7742-40cf-8ef8-efbb6b11e880",
   "metadata": {},
   "source": [
    "## Call edges where both A and B flanking 100kb windwos have data"
   ]
  },
  {
   "cell_type": "code",
   "execution_count": null,
   "id": "1140c49d-07df-401f-a811-42d4d6e38e95",
   "metadata": {},
   "outputs": [],
   "source": [
    "_comp = comp.copy()\n",
    "for i in range(1, _comp.index.size-1):\n",
    "    if np.isnan(_comp.loc[i-1, 'e1_mean']):\n",
    "        _comp.loc[i, 'start'] = np.nan\n",
    "    if np.isnan(_comp.loc[i+1, 'e1_mean']):\n",
    "        _comp.loc[i, 'end'] = np.nan\n",
    "_comp = _comp.loc[~_comp.e1_mean.isnull(), :]\n",
    "_comp = _comp.reset_index()\n",
    "edges = pd.concat([_comp.start, _comp.end]).sort_values().unique()"
   ]
  },
  {
   "cell_type": "markdown",
   "id": "86fb081d-df0b-4975-974d-e0307dfb46c2",
   "metadata": {},
   "source": [
    "## Plot compartmnet and defined edges"
   ]
  },
  {
   "cell_type": "code",
   "execution_count": null,
   "id": "92e10e59-083d-479b-8533-3aeeb24da89f",
   "metadata": {},
   "outputs": [],
   "source": [
    "compartments = comp.loc[~comp.e1_mean.isnull()].copy()\n",
    "compartments['start'] = compartments.start.astype(int)\n",
    "compartments['end'] = compartments.end.astype(int)\n",
    "\n",
    "axes = plot_intervals(\n",
    "    A=comp.loc[comp.comp == 'A', :].copy(),\n",
    "    B=comp.loc[comp.comp == 'B', :].copy(),   \n",
    "    vlines=edges.tolist(),\n",
    "    figsize=(12, 2)\n",
    ")"
   ]
  },
  {
   "cell_type": "code",
   "execution_count": null,
   "id": "bd87f62f-32e8-40dd-be73-fee921cedb46",
   "metadata": {},
   "outputs": [],
   "source": [
    "compartments.to_csv('compartments.csv')"
   ]
  },
  {
   "cell_type": "code",
   "execution_count": null,
   "id": "e4d28da1-706e-42b3-8909-52215328386a",
   "metadata": {},
   "outputs": [],
   "source": [
    "edge_segments = pd.DataFrame(np.column_stack((edges-100_000, edges+100_000)), columns=['start', 'end'])\n",
    "edge_segments['chrom'] = 'chrX'\n",
    "edge_segments.to_csv('edge_segments.csv')"
   ]
  }
 ],
 "metadata": {
  "kernelspec": {
   "display_name": "Python 3 (ipykernel)",
   "language": "python",
   "name": "python3"
  },
  "language_info": {
   "codemirror_mode": {
    "name": "ipython",
    "version": 3
   },
   "file_extension": ".py",
   "mimetype": "text/x-python",
   "name": "python",
   "nbconvert_exporter": "python",
   "pygments_lexer": "ipython3",
   "version": "3.12.8"
  },
  "widgets": {
   "application/vnd.jupyter.widget-state+json": {
    "state": {},
    "version_major": 2,
    "version_minor": 0
   }
  }
 },
 "nbformat": 4,
 "nbformat_minor": 5
}
