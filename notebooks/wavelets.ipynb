{
 "cells": [
  {
   "cell_type": "code",
   "execution_count": null,
   "id": "0983a8c2-14ae-4796-a52c-052930138dcf",
   "metadata": {},
   "outputs": [],
   "source": [
    "import pywt\n",
    "import numpy as np\n",
    "import matplotlib.pyplot as plt"
   ]
  },
  {
   "cell_type": "code",
   "execution_count": null,
   "id": "1e194e91-4b40-481d-8151-ebaa414ac5a2",
   "metadata": {},
   "outputs": [],
   "source": [
    "data = np.random.random((4, 4))\n",
    "data"
   ]
  },
  {
   "cell_type": "code",
   "execution_count": null,
   "id": "9f816d55-fd15-4f20-a70d-549e3d8b24d0",
   "metadata": {},
   "outputs": [],
   "source": [
    "pywt.mra2(data, 'haar')"
   ]
  },
  {
   "cell_type": "code",
   "execution_count": null,
   "id": "7b0600c9-251e-4fb3-a04c-deb4b202b12f",
   "metadata": {},
   "outputs": [],
   "source": [
    "data = np.random.random(4)\n",
    "data"
   ]
  },
  {
   "cell_type": "code",
   "execution_count": null,
   "id": "930e9d38-e13f-441c-8690-d9b3a675d480",
   "metadata": {},
   "outputs": [],
   "source": [
    "pywt.mra(data, 'haar')"
   ]
  },
  {
   "cell_type": "code",
   "execution_count": null,
   "id": "17f0be83-867c-42a8-af2d-a4741e9788d9",
   "metadata": {},
   "outputs": [],
   "source": [
    "x = np.linspace(-np.pi, 10*np.pi, 2000)\n",
    "y = (np.sin(x) + np.sin(x*3)) * np.random.random(size=len(x)) * 5"
   ]
  },
  {
   "cell_type": "code",
   "execution_count": null,
   "id": "f8365ade-6ee4-4bd6-9246-7f51fe896c8d",
   "metadata": {},
   "outputs": [],
   "source": [
    "plt.figure(figsize=(15, 4))\n",
    "plt.plot(x, y, lw=0.5)"
   ]
  },
  {
   "cell_type": "code",
   "execution_count": null,
   "id": "b8f23a26-67a6-43b3-acb2-74251b5c018d",
   "metadata": {},
   "outputs": [],
   "source": [
    "mra = pywt.mra(y, 'haar', 3)\n",
    "fig, axes = plt.subplots(len(mra), 1, figsize=(15, 4))\n",
    "for ar, ax in zip(mra, axes):\n",
    "    ax.plot(x, ar, lw=0.5)"
   ]
  },
  {
   "cell_type": "code",
   "execution_count": null,
   "id": "fad6f543-67b5-44ff-b50f-9f9d7c8d69cd",
   "metadata": {},
   "outputs": [],
   "source": [
    "from numpy import arange\n",
    "from numpy import exp\n",
    "from numpy import sqrt\n",
    "from numpy import cos\n",
    "from numpy import e\n",
    "from numpy import pi\n",
    "from numpy import meshgrid\n",
    "import matplotlib.pyplot as plt\n",
    "\n",
    "def objective(x, y):\n",
    " return -20.0 * exp(-0.2 * sqrt(0.5 * (x**2 + y**2)))-exp(0.5 * (cos(2 * \n",
    "  pi * x)+cos(2 * pi * y))) + e + 20\n",
    "\n",
    "\n",
    "r_min, r_max = -32.768, 32.768\n",
    "xaxis = arange(r_min, r_max, 2.0)\n",
    "yaxis = arange(r_min, r_max, 2.0)\n",
    "x, y = meshgrid(xaxis, yaxis)\n",
    "results = objective(x, y)\n",
    "plt.matshow(results)"
   ]
  },
  {
   "cell_type": "code",
   "execution_count": null,
   "id": "457c29a1-93da-4f64-b80b-0c8629837c32",
   "metadata": {},
   "outputs": [],
   "source": [
    "x= np.arange(-0.5,1.5,0.01)\n",
    "y= np.arange(-0.5,1.5,0.01)\n",
    "z= np.sin(10*x*y)\n",
    "X,Y = np.meshgrid(x,y)\n",
    "pure = np.sin(X*5)*np.cos(Y*5) \n",
    "data = pure + np.random.random((x.size, y.size)) * 1\n",
    "fig, (ax1, ax2) = plt.subplots(1, 2, figsize=(10, 4))\n",
    "\n",
    "ax1.matshow(pure)\n",
    "ax2.matshow(data)"
   ]
  },
  {
   "cell_type": "code",
   "execution_count": null,
   "id": "ead2c496-a998-436c-86a7-1023f70b447d",
   "metadata": {},
   "outputs": [],
   "source": [
    "mra2 = pywt.mra2(data, 'haar')\n",
    "approx, decomp = mra2[0], mra2[1]"
   ]
  },
  {
   "cell_type": "code",
   "execution_count": null,
   "id": "dab5da72-8613-4ad2-9de7-e86ebeb553cc",
   "metadata": {},
   "outputs": [],
   "source": [
    "fig, axes = plt.subplots(1, len(mra2), figsize=(15, 10))\n",
    "axes[0].matshow(approx)\n",
    "for ar, ax in zip(decomp, axes[1:]):\n",
    "    ax.matshow(ar)"
   ]
  },
  {
   "cell_type": "code",
   "execution_count": null,
   "id": "768da8e5-8f69-4f48-b9f5-518319620263",
   "metadata": {},
   "outputs": [],
   "source": []
  }
 ],
 "metadata": {
  "kernelspec": {
   "display_name": "Python 3 (ipykernel)",
   "language": "python",
   "name": "python3"
  },
  "language_info": {
   "codemirror_mode": {
    "name": "ipython",
    "version": 3
   },
   "file_extension": ".py",
   "mimetype": "text/x-python",
   "name": "python",
   "nbconvert_exporter": "python",
   "pygments_lexer": "ipython3",
   "version": "3.10.16"
  },
  "widgets": {
   "application/vnd.jupyter.widget-state+json": {
    "state": {},
    "version_major": 2,
    "version_minor": 0
   }
  }
 },
 "nbformat": 4,
 "nbformat_minor": 5
}
