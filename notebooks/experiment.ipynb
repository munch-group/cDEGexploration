{
 "cells": [
  {
   "cell_type": "code",
   "execution_count": null,
   "id": "b0951b5a-73d1-49d7-bb80-0c2c14ade6b1",
   "metadata": {},
   "outputs": [],
   "source": [
    "import pandas as pd\n",
    "import numpy as np\n",
    "import matplotlib.pyplot as plt\n",
    "import seaborn as sns\n",
    "%config InlineBackend.figure_format='svg'\n",
    "\n",
    "from genominterv.decorators import bootstrap\n",
    "from genominterv.stats import proximity_stat, jaccard_stat\n",
    "import geneinfo as gi\n",
    "from geneinfo.utils import GeneList as glist\n",
    "\n",
    "import warnings\n",
    "warnings.simplefilter(action='ignore', category=FutureWarning)\n"
   ]
  },
  {
   "cell_type": "code",
   "execution_count": null,
   "id": "a59567d3-13f5-402b-ab1b-e601f7158ef3",
   "metadata": {},
   "outputs": [],
   "source": [
    "from collections import OrderedDict\n",
    "\n",
    "def plot_intervals(kwargs):\n",
    "\n",
    "    import matplotlib.pyplot as plt\n",
    "\n",
    "    vlines = kwargs.get('vlines', [])\n",
    "    if 'vlines' in kwargs: del kwargs['vlines']\n",
    "    figsize = kwargs.get('figsize', (8, 1.5*len(kwargs)-1))\n",
    "    if 'figsize' in kwargs: del kwargs['figsize']\n",
    "\n",
    "    tups = list(kwargs.items())\n",
    "    tups = reversed(tups)\n",
    "\n",
    "    df_list = []\n",
    "    labels = []\n",
    "    for label, df in tups:\n",
    "        labels.append(label)\n",
    "        df['label'] = np.repeat(label, df.index.size)\n",
    "        df_list.append(df)\n",
    "    bigdf = pd.concat(df_list)\n",
    "\n",
    "    bigdf['chrom'] = pd.Categorical(bigdf['chrom'], bigdf['chrom'].unique())\n",
    "    bigdf['label'] = pd.Categorical(bigdf['label'], bigdf['label'].unique())\n",
    "\n",
    "    gr = bigdf.groupby('chrom', observed=False)\n",
    "\n",
    "    fig, axes = plt.subplots(gr.ngroups, 1, figsize=figsize, \n",
    "                            sharey=True\n",
    "                            #  sharex=True\n",
    "                             )\n",
    "    if type(axes) is not np.ndarray:\n",
    "        # in case there is only one axis so it not returned as a list\n",
    "        axes = [axes]\n",
    "    \n",
    "    for i, chrom in enumerate(gr.groups):\n",
    "        _df = gr.get_group(chrom)\n",
    "        _gr = _df.groupby('label', observed=False)\n",
    "        for y, label in enumerate(_gr.groups):\n",
    "            try:\n",
    "                df = _gr.get_group(label)\n",
    "            except KeyError:\n",
    "                continue\n",
    "            y = np.repeat(y, df.index.size)\n",
    "            axes[i].hlines(y, df.start.tolist(), df.end.tolist(), lw=10, colors=f'C{y[0]}', capstyle='butt')\n",
    "            delta = len(labels)/10\n",
    "\n",
    "        axes[i].spines['top'].set_visible(False)\n",
    "        axes[i].spines['left'].set_visible(False)\n",
    "        axes[i].spines['right'].set_visible(False)\n",
    "\n",
    "        axes[i].set_yticks(list(range(len(labels))), labels)\n",
    "        axes[i].tick_params(axis='y', which='both', left=False)\n",
    "        axes[i].set_ylim(-1, len(labels)-0.7)\n",
    "        # axes[i].set_xlim(df.start.min()-delta, df.end.max()+delta)\n",
    "        if i != gr.ngroups-1:\n",
    "            axes[i].tick_params(axis='x', which='both', bottom=False)\n",
    "\n",
    "        axes[i].set_title(chrom, loc='left', fontsize=10)\n",
    "\n",
    "    for y, ax in enumerate(axes):\n",
    "        y = np.repeat(y, len(vlines))\n",
    "        axes[i].vlines(vlines, *ax.get_ylim(), lw=0.1, colors='black', zorder=0)\n",
    "    \n",
    "    plt.tight_layout()\n",
    "    return axes\n",
    "\n",
    "def stairs(df, start='start', end='end', pos='pos', endtrim=0):\n",
    "    \"Turn a df with start, end into one with pos to plot as stairs\"\n",
    "    df1 = df.copy(deep=True)\n",
    "    df2 = df.copy(deep=True)\n",
    "    df1[pos] = df1[start]\n",
    "    df2[pos] = df2[end] - endtrim\n",
    "    return pd.concat([df1, df2]).sort_values([start, end])"
   ]
  },
  {
   "cell_type": "markdown",
   "id": "75bdfe02-4df6-4615-b623-7320b956adf7",
   "metadata": {},
   "source": [
    "## Call compartments and defined edges"
   ]
  },
  {
   "cell_type": "code",
   "execution_count": null,
   "id": "bc9c00fa-7f9e-4acd-9d2e-ec5e4388c592",
   "metadata": {},
   "outputs": [],
   "source": [
    "def parse_compartment_data(file_name):\n",
    "    e1_100kb = pd.read_csv(file_name)\n",
    "    e1_100kb['start'] = [i*100_000 for i in range(e1_100kb.index.size)]\n",
    "    e1_100kb['end'] = e1_100kb.start + 100_000\n",
    "    e1_100kb['sign'] = np.sign(e1_100kb.e1)\n",
    "    e1_100kb['segment_id'] = ((e1_100kb.sign.shift() != e1_100kb.sign)).cumsum()\n",
    "    \n",
    "    comp = e1_100kb.groupby('segment_id', as_index=False).agg(dict(\n",
    "         e1=['mean', 'sum'], \n",
    "         start='min', \n",
    "         end='max', \n",
    "         segment_id='mean', \n",
    "         sign='mean'\n",
    "    ))\n",
    "    comp.columns = ['_'.join(col).strip() for col in comp.columns.values]\n",
    "    comp = comp.rename(\n",
    "        columns={'start_min':'start',\n",
    "                 'end_max':'end', \n",
    "                 'segment_id_mean':'segment_id', \n",
    "                 'sign_mean':'sign'}\n",
    "    )\n",
    "    comp['comp'] = ['A' if x > 0 else 'B' for x in comp.sign]\n",
    "    comp = comp.reset_index()\n",
    "    comp['chrom'] = 'chrX'\n",
    "    \n",
    "    _comp = comp.copy()\n",
    "    for i in range(1, _comp.index.size-1):\n",
    "        if np.isnan(_comp.loc[i-1, 'e1_mean']):\n",
    "            _comp.loc[i, 'start'] = np.nan\n",
    "        if np.isnan(_comp.loc[i+1, 'e1_mean']):\n",
    "            _comp.loc[i, 'end'] = np.nan\n",
    "    _comp = _comp.loc[~_comp.e1_mean.isnull(), :]\n",
    "    _comp = _comp.reset_index()\n",
    "    compartment_edges = pd.concat([_comp.start, _comp.end]).sort_values().unique()\n",
    "    \n",
    "    compartments = comp.loc[~comp.e1_mean.isnull()].copy()\n",
    "    compartments['start'] = compartments.start.astype(int)\n",
    "    compartments['end'] = compartments.end.astype(int)\n",
    "\n",
    "    return compartments, compartment_edges\n",
    "\n",
    "def edge_segments(compartment_edges, flank):\n",
    "    compartment_edge_segm = pd.DataFrame(np.column_stack((compartment_edges, compartment_edges+flank)), columns=['start', 'end'])\n",
    "    compartment_edge_segm['chrom'] = 'chrX'\n",
    "    return compartment_edge_segm"
   ]
  },
  {
   "cell_type": "code",
   "execution_count": null,
   "id": "1b0aefeb-fa5c-4ee3-a35a-94069fa087a4",
   "metadata": {},
   "outputs": [],
   "source": [
    "from statsmodels.nonparametric.smoothers_lowess import lowess\n",
    "filtered = lowess(_plot_df.pos, _plot_df.e1, is_sorted=True, frac=0.005, it=0)\n",
    "plt.plot(filtered[:,0], filtered[:,1], color='red', linewidth=0.5)\n"
   ]
  },
  {
   "cell_type": "code",
   "execution_count": null,
   "id": "f182c8c3-bbee-4a50-bb48-cfc1f26b2f7f",
   "metadata": {},
   "outputs": [],
   "source": [
    "# e1_100kb = pd.read_csv('rec_compartments/round_spermatid_e1_100kb_arms.csv')\n",
    "e1_100kb = pd.read_csv('rec_compartments/sperm_e1_100kb_10Mb.csv')\n",
    "e1_100kb['start'] = [i*100_000 for i in range(e1_100kb.index.size)]\n",
    "e1_100kb['end'] = e1_100kb.start + 100_000\n",
    "e1_100kb['sign'] = np.sign(e1_100kb.e1)\n",
    "e1_100kb['segment_id'] = ((e1_100kb.sign.shift() != e1_100kb.sign)).cumsum()\n",
    "\n",
    "_plot_df = stairs(e1_100kb)\n",
    "plt.figure(figsize=(15, 6))\n",
    "plt.fill_between(_plot_df.pos, _plot_df.e1)\n",
    "\n",
    "from statsmodels.nonparametric.smoothers_lowess import lowess\n",
    "def add_lowess(x, y, ax=None, color=None, is_sorted=True, frac=0.005, it=0, **kwargs):\n",
    "    \"Add a lowess curve to the plot\"\n",
    "    if ax is None:\n",
    "        ax = plt.gca() \n",
    "    filtered = lowess(y, x, is_sorted=is_sorted, frac=frac, it=it, **kwargs)\n",
    "    ax.plot(filtered[:,0], filtered[:,1], color='orange', linewidth=0.8)\n",
    "add_lowess(_plot_df.pos, _plot_df.e1)\n",
    "\n",
    "# from statsmodels.nonparametric.smoothers_lowess import lowess\n",
    "# filtered = lowess(_plot_df.pos, _plot_df.e1, is_sorted=True, frac=0.005, it=0)\n",
    "# plt.plot(filtered[:,0], filtered[:,1], color='red', linewidth=0.5)\n",
    "\n",
    "\n",
    "sns.despine()"
   ]
  },
  {
   "cell_type": "code",
   "execution_count": null,
   "id": "a931cf29-adcd-41bc-9a08-7ac7c54bec15",
   "metadata": {},
   "outputs": [],
   "source": [
    "\n",
    "\n",
    "def pca(matrix, labels=None, n_components=2):\n",
    "    sklearn_pca = PCA(n_components=n_components)\n",
    "    sklearn_pca.fit(matrix)\n",
    "    transform = sklearn_pca.transform(matrix)\n",
    "    df = pd.DataFrame()\n",
    "    for i in range(n_components):\n",
    "        df[f'PC{i+1}'] = transform[:, i]\n",
    "    if labels is not None:\n",
    "        df['labels'] = labels\n",
    "    return df    "
   ]
  },
  {
   "cell_type": "code",
   "execution_count": null,
   "id": "c0ee153b-dda0-4c1f-9995-5c4e60c0fdfe",
   "metadata": {},
   "outputs": [],
   "source": [
    "comp = e1_100kb.groupby('segment_id', as_index=False).agg(dict(\n",
    "     e1=['mean', 'sum'], \n",
    "     start='min', \n",
    "     end='max', \n",
    "     segment_id='mean', \n",
    "     sign='mean'\n",
    "))\n",
    "comp.columns = ['_'.join(col).strip() for col in comp.columns.values]\n",
    "comp = comp.rename(\n",
    "    columns={'start_min':'start',\n",
    "             'end_max':'end', \n",
    "             'segment_id_mean':'segment_id', \n",
    "             'sign_mean':'sign'}\n",
    ")\n",
    "comp['comp'] = ['A' if x > 0 else 'B' for x in comp.sign]\n",
    "comp = comp.reset_index()\n",
    "comp['chrom'] = 'chrX'\n",
    "\n",
    "_comp = comp.copy()\n",
    "for i in range(1, _comp.index.size-1):\n",
    "    if np.isnan(_comp.loc[i-1, 'e1_mean']):\n",
    "        _comp.loc[i, 'start'] = np.nan\n",
    "    if np.isnan(_comp.loc[i+1, 'e1_mean']):\n",
    "        _comp.loc[i, 'end'] = np.nan\n",
    "_comp = _comp.loc[~_comp.e1_mean.isnull(), :]\n",
    "_comp = _comp.reset_index()\n",
    "compartment_edges = pd.concat([_comp.start, _comp.end]).sort_values().unique()\n",
    "\n",
    "compartments = comp.loc[~comp.e1_mean.isnull()].copy()\n",
    "compartments['start'] = compartments.start.astype(int)\n",
    "compartments['end'] = compartments.end.astype(int)\n",
    "\n",
    "axes = plot_intervals(OrderedDict(\n",
    "    A=compartments.loc[compartments.comp == 'A', :].copy(),\n",
    "    B=compartments.loc[compartments.comp == 'B', :].copy(),   \n",
    "    vlines=compartment_edges.tolist(),\n",
    "    figsize=(12, 2)\n",
    "))"
   ]
  },
  {
   "cell_type": "code",
   "execution_count": null,
   "id": "25a0f945-88d1-426d-843e-c6a4bfc0a542",
   "metadata": {},
   "outputs": [],
   "source": [
    "fig, axes = plt.subplots(1, 2, figsize=(10, 3))\n",
    "sns.histplot(compartments.loc[compartments.e1_mean.abs() > 0 ], x='e1_mean', bins=50, ax=axes[0]) ;\n",
    "sns.histplot(compartments.loc[compartments.e1_sum.abs() > 0 ], x='e1_sum', bins=50, ax=axes[1]) ;"
   ]
  },
  {
   "cell_type": "markdown",
   "id": "82cdbea2-cf1c-4328-b508-3d20f6ac1e8e",
   "metadata": {},
   "source": [
    "## rheMac10 chromsome sizes"
   ]
  },
  {
   "cell_type": "code",
   "execution_count": null,
   "id": "0f6877f7-daf7-4e5d-8ddc-f4d5d5adb9b5",
   "metadata": {},
   "outputs": [],
   "source": [
    "chrom_sizes = {\n",
    "'chr1': 223616942,\n",
    "'chr2': 196197964,\n",
    "'chr5': 187317192,\n",
    "'chr3': 185288947,\n",
    "'chr6': 179085566,\n",
    "'chr4': 169963040,\n",
    "'chr7': 169868564,\n",
    "'chrX': 153388924,\n",
    "'chr8': 145679320,\n",
    "'chr9': 134124166,\n",
    "'chr11': 133066086,\n",
    "'chr12': 130043856,\n",
    "'chr14': 128056306,\n",
    "'chr15': 113283604,\n",
    "'chr13': 108737130,\n",
    "'chr10': 99517758,\n",
    "'chr17': 95433459,\n",
    "'chr16': 79627064,\n",
    "'chr20': 77137495,\n",
    "'chr18': 74474043,\n",
    "'chr19': 58315233,\n",
    "'chrY': 11753682,\n",
    "}"
   ]
  },
  {
   "cell_type": "markdown",
   "id": "d81f45a2-e674-4615-8aa9-1df716bf8749",
   "metadata": {},
   "source": [
    "## Read baboon segments lifted from papanu4 to rheMac10 using segment-liftover"
   ]
  },
  {
   "cell_type": "code",
   "execution_count": null,
   "id": "244e0c37-f38e-47be-9ae1-53445b8e74a7",
   "metadata": {},
   "outputs": [],
   "source": [
    "high_hama_rhemac10 = pd.read_csv('lift/rheMac10/high_hama_rhemac10.bed', sep='\\t', \n",
    "            header=None, names=['label', 'chrom', 'start', 'end'])\n",
    "high_hama_rhemac10.head()"
   ]
  },
  {
   "cell_type": "code",
   "execution_count": null,
   "id": "a33f849e-151b-4986-8bff-9a9a7e996af2",
   "metadata": {},
   "outputs": [],
   "source": [
    "high_olive_rhemac10 = pd.read_csv('lift/rheMac10/high_olive_rhemac10.bed', sep='\\t', \n",
    "            header=None, names=['label', 'chrom', 'start', 'end'])\n",
    "high_olive_rhemac10.head()"
   ]
  },
  {
   "cell_type": "code",
   "execution_count": null,
   "id": "65b328ab-0ae3-4c8a-abad-39241cc217a3",
   "metadata": {},
   "outputs": [],
   "source": [
    "ech90_human_Mmul_10 = pd.read_csv('ech90_human_Mmul_10.csv')\n",
    "ech90_human_Mmul_10.head()"
   ]
  },
  {
   "cell_type": "code",
   "execution_count": null,
   "id": "98dc79ed-65b3-467b-be3a-ef4f4469b97c",
   "metadata": {},
   "outputs": [],
   "source": [
    "axes = plot_intervals(OrderedDict(\n",
    "    Olive=high_olive_rhemac10,   \n",
    "    Hama=high_hama_rhemac10,\n",
    "    A=compartments.loc[compartments.comp == 'A', :].copy(),\n",
    "    B=compartments.loc[compartments.comp == 'B', :].copy(), \n",
    "    # ECH90=ech90_human_Mmul_10,\n",
    "    vlines=compartment_edges.tolist(),\n",
    "    figsize=(9, 2)\n",
    "))"
   ]
  },
  {
   "attachments": {
    "79efb61c-650a-4984-aa87-972d648cb074.png": {
     "image/png": "[encoded data removed]"
    }
   },
   "cell_type": "markdown",
   "id": "e3ea7035-b0a6-453f-9bd7-549cbca0c6ab",
   "metadata": {},
   "source": [
    "![Screenshot 2025-01-09 at 09.50.43.png](attachment:79efb61c-650a-4984-aa87-972d648cb074.png)"
   ]
  },
  {
   "cell_type": "markdown",
   "id": "2b0fce93-cba5-4bec-b248-76c7fa1cc4d9",
   "metadata": {},
   "source": [
    "## Make 200kb segments around edges"
   ]
  },
  {
   "cell_type": "code",
   "execution_count": null,
   "id": "204b18d3-b3b4-402c-8345-2489e9a0700d",
   "metadata": {},
   "outputs": [],
   "source": [
    "flank = 200_000"
   ]
  },
  {
   "cell_type": "code",
   "execution_count": null,
   "id": "184b3b1d-4a38-4f4f-9c28-2ec92b3cd87d",
   "metadata": {},
   "outputs": [],
   "source": [
    "compartment_edge_segments = pd.DataFrame(np.column_stack((compartment_edges, compartment_edges+flank)), columns=['start', 'end'])\n",
    "compartment_edge_segments['chrom'] = 'chrX'\n",
    "compartment_edge_segments.head()"
   ]
  },
  {
   "cell_type": "code",
   "execution_count": null,
   "id": "081b423d-8412-4983-ba87-bc7af1ca8191",
   "metadata": {},
   "outputs": [],
   "source": [
    "hama_edges = np.concatenate((high_hama_rhemac10.start, high_hama_rhemac10.end))\n",
    "hama_edge_segments = pd.DataFrame(np.column_stack((hama_edges, hama_edges+flank)), columns=['start', 'end'])\n",
    "hama_edge_segments.start = np.maximum(hama_edge_segments.start, 0)\n",
    "hama_edge_segments.end = np.minimum(hama_edge_segments.end, chrom_sizes['chrX']) # rheMac10 chrX length\n",
    "hama_edge_segments['chrom'] = 'chrX'\n",
    "hama_edge_segments = hama_edge_segments.sort_values(by=['start', 'end'])\n",
    "hama_edge_segments.head()"
   ]
  },
  {
   "cell_type": "code",
   "execution_count": null,
   "id": "c0c816f3-00d9-462b-9184-cbe41693192d",
   "metadata": {},
   "outputs": [],
   "source": [
    "olive_edges = np.concatenate((high_olive_rhemac10.start, high_olive_rhemac10.end))\n",
    "olive_edge_segments = pd.DataFrame(np.column_stack((olive_edges, olive_edges+flank)), columns=['start', 'end'])\n",
    "olive_edge_segments.start = np.maximum(olive_edge_segments.start, 0)\n",
    "olive_edge_segments.end = np.minimum(olive_edge_segments.end, chrom_sizes['chrX']) # rheMac10 chrX length\n",
    "olive_edge_segments['chrom'] = 'chrX'\n",
    "olive_edge_segments = olive_edge_segments.sort_values(by=['start', 'end'])\n",
    "olive_edge_segments.head()"
   ]
  },
  {
   "cell_type": "markdown",
   "id": "7a7c2db5-1eda-4221-a2df-c9e4c9531ed8",
   "metadata": {},
   "source": [
    "## Make 1bp segments around edges"
   ]
  },
  {
   "cell_type": "code",
   "execution_count": null,
   "id": "dc083e13-e17e-4b8b-b1c0-d0797201a1fc",
   "metadata": {},
   "outputs": [],
   "source": [
    "flank = 1"
   ]
  },
  {
   "cell_type": "code",
   "execution_count": null,
   "id": "5092d263-75f6-4c43-aaf5-cb164b7dc877",
   "metadata": {},
   "outputs": [],
   "source": [
    "compartment_edge_1bp = pd.DataFrame(np.column_stack((compartment_edges, compartment_edges+flank)), columns=['start', 'end'])\n",
    "compartment_edge_1bp['chrom'] = 'chrX'\n",
    "compartment_edge_1bp.head()"
   ]
  },
  {
   "cell_type": "code",
   "execution_count": null,
   "id": "b3beaadb-2376-4c21-aa75-ffdf3969bc05",
   "metadata": {},
   "outputs": [],
   "source": [
    "hama_edges = np.concatenate((high_hama_rhemac10.start, high_hama_rhemac10.end))\n",
    "hama_edge_1bp = pd.DataFrame(np.column_stack((hama_edges, hama_edges+flank)), columns=['start', 'end'])\n",
    "hama_edge_1bp.start = np.maximum(hama_edge_1bp.start, 0)\n",
    "hama_edge_1bp.end = np.minimum(hama_edge_1bp.end, chrom_sizes['chrX']) # rheMac10 chrX length\n",
    "hama_edge_1bp['chrom'] = 'chrX'\n",
    "hama_edge_1bp = hama_edge_1bp.sort_values(by=['start', 'end'])\n",
    "hama_edge_1bp.head()"
   ]
  },
  {
   "cell_type": "code",
   "execution_count": null,
   "id": "ef176a91-5da0-4c1b-83de-fab8c2a65184",
   "metadata": {},
   "outputs": [],
   "source": [
    "olive_edges = np.concatenate((high_olive_rhemac10.start, high_olive_rhemac10.end))\n",
    "olive_edge_1bp = pd.DataFrame(np.column_stack((olive_edges, olive_edges+flank)), columns=['start', 'end'])\n",
    "olive_edge_1bp.start = np.maximum(olive_edge_1bp.start, 0)\n",
    "olive_edge_1bp.end = np.minimum(olive_edge_1bp.end, chrom_sizes['chrX']) # rheMac10 chrX length\n",
    "olive_edge_1bp['chrom'] = 'chrX'\n",
    "olive_edge_1bp = olive_edge_1bp.sort_values(by=['start', 'end'])\n",
    "olive_edge_1bp.head()"
   ]
  },
  {
   "cell_type": "code",
   "execution_count": null,
   "id": "054e2be8-4792-44df-8031-7f3835ec8800",
   "metadata": {},
   "outputs": [],
   "source": [
    "@bootstrap(chrom_sizes)\n",
    "def proximity_test(q, a):\n",
    "    return proximity_stat(q, a)\n",
    "\n",
    "\n",
    "@bootstrap(chrom_sizes)\n",
    "def jaccard_test(q, a):\n",
    "    return jaccard_stat(q, a)\n",
    "\n",
    "\n",
    "def overlaps(df1, df2):\n",
    "    \"\"\"\n",
    "    Establishes whether each query segment overlaps at least one \n",
    "    annotation segment. Returns a boolean array with same length \n",
    "    as df1.index.\n",
    "    \"\"\"\n",
    "    overlapping = []\n",
    "    for i, (s1, e1) in enumerate(zip(df1.start, df1.end)):\n",
    "        overlaps = False\n",
    "        for s2, e2 in zip(df2.start, df2.end):\n",
    "            if e1 > s2 and e2 > s1:\n",
    "                overlaps = True\n",
    "                break\n",
    "        overlapping.append(overlaps)\n",
    "    return np.array(overlapping)"
   ]
  },
  {
   "cell_type": "markdown",
   "id": "da4f05fa-bbcc-48f7-82af-3afb2ec899b1",
   "metadata": {},
   "source": [
    "## Association with compartment edges"
   ]
  },
  {
   "cell_type": "code",
   "execution_count": null,
   "id": "79be5d82-791d-410a-b50f-d834401e757f",
   "metadata": {},
   "outputs": [],
   "source": [
    "for tissue in ['fibroblast', 'pachytene_spermatocyte', 'round_spermatid', 'sperm', 'spermatogonia']:\n",
    "    for pc in ['arms', '10Mb', '10Mb_smoothed']:\n",
    "        for scale in ['100kb', '500kb']:\n",
    "            file_name = f\"rec_compartments/{tissue}_e1_{scale}_{pc}.csv\"\n",
    "            if '500kb_10Mb' in file_name:\n",
    "                continue\n",
    "            parse_compartment_data(file_name)"
   ]
  },
  {
   "cell_type": "code",
   "execution_count": null,
   "id": "24e10dd7-5a23-438b-896e-0529ebe1c537",
   "metadata": {},
   "outputs": [],
   "source": [
    "records = []\n",
    "\n",
    "for tissue in ['fibroblast', 'pachytene_spermatocyte', 'round_spermatid', 'sperm', 'spermatogonia']:\n",
    "    for pc in ['arms', '10Mb', '10Mb_smoothed']:\n",
    "        for scale in ['100kb', '500kb']:\n",
    "\n",
    "            file_name = f\"rec_compartments/{tissue}_e1_{scale}_{pc}.csv\"\n",
    "            if '500kb_10Mb' in file_name:\n",
    "                continue\n",
    "            print(file_name)\n",
    "\n",
    "            compartments, compartment_edges = parse_compartment_data(file_name)\n",
    "            compartment_edge_segments = edge_segments(compartment_edges, flank=200_000)\n",
    "            compartment_edge_1bp = edge_segments(compartment_edges, flank=1)\n",
    "            \n",
    "            query = ech90_human_Mmul_10\n",
    "            annot = compartment_edge_segments\n",
    "            stat, p = jaccard_test(query, annot)\n",
    "            records.append((tissue, pc, scale, 'ECH90', 'comp_edge_seg', 'jaccard', stat, p))\n",
    "            print(*records[-1]) \n",
    "\n",
    "            query = ech90_human_Mmul_10\n",
    "            annot = compartment_edge_1bp\n",
    "            stat, p = jaccard_test(query, annot)\n",
    "            records.append((tissue, pc, scale, 'ECH90', 'comp_edge_1bp', 'jaccard', stat, p))\n",
    "            print(*records[-1]) \n",
    "            \n",
    "            query = ech90_human_Mmul_10\n",
    "            annot = compartment_edge_1bp\n",
    "            stat, p = proximity_test(query.loc[~overlaps(query, annot)], annot)\n",
    "            records.append((tissue, pc, scale, 'ECH90', 'comp_edge_1bp', 'proximity', stat, p))\n",
    "            print(*records[-1])\n",
    "            \n",
    "            query = hama_edge_segments\n",
    "            annot = compartment_edge_segments\n",
    "            stat, p = jaccard_test(query, annot)\n",
    "            records.append((tissue, pc, scale, 'hama_edge_seg', 'comp_edge_seg', 'jaccard', stat, p))\n",
    "            print(*records[-1])\n",
    "\n",
    "            query = hama_edge_1bp\n",
    "            annot = compartment_edge_1bp\n",
    "            stat, p = proximity_test(query.loc[~overlaps(query, annot)], annot)\n",
    "            records.append((tissue, pc, scale, 'hama_edge_1bp', 'comp_edge_1bp', 'proximity', stat, p))\n",
    "            print(*records[-1])\n",
    "            \n",
    "            query = olive_edge_segments\n",
    "            annot = compartment_edge_segments\n",
    "            stat, p = jaccard_test(query, annot)\n",
    "            records.append((tissue, pc, scale, 'olive_edge_seg', 'comp_edge_seg', 'jaccard', stat, p))\n",
    "            print(*records[-1])\n",
    "            \n",
    "            query = olive_edge_1bp\n",
    "            annot = compartment_edge_1bp\n",
    "            stat, p = proximity_test(query.loc[~overlaps(query, annot)], annot)\n",
    "            records.append((tissue, pc, scale, 'olive_edge_1bp', 'comp_edge_1bp', 'proximity', stat, p))\n",
    "            print(*records[-1])\n",
    "\n",
    "            query = pd.concat([olive_edge_1bp, olive_edge_1bp]).sort_values(['start', 'end'])\n",
    "            annot = compartment_edge_1bp\n",
    "            stat, p = proximity_test(query.loc[~overlaps(query, annot)], annot)\n",
    "            records.append((tissue, pc, scale, 'olivehama_edge_1bp', 'comp_edge_1bp', 'proximity', stat, p))\n",
    "            print(*records[-1])\n",
    "\n",
    "\n",
    "all_tests = pd.DataFrame().from_records(records, \n",
    "                            columns=['tissue', 'pc_scale', 'win_size', 'query',\n",
    "                                     'annot', 'test', 'value', 'p'])\n",
    "all_tests.to_csv('all_tests.csv')"
   ]
  },
  {
   "cell_type": "code",
   "execution_count": null,
   "id": "2fb51010-5bf9-4521-a87d-9ddd1ae1226d",
   "metadata": {},
   "outputs": [],
   "source": [
    "all_tests = pd.DataFrame().from_records(records, \n",
    "                            columns=['tissue', 'pc_scale', 'win_size', 'query',\n",
    "                                     'annot', 'test', 'value', 'p'])\n",
    "all_tests.to_csv('all_tests.csv')"
   ]
  },
  {
   "cell_type": "code",
   "execution_count": null,
   "id": "d140ffe4-a077-46a8-8c36-b200993c83ac",
   "metadata": {},
   "outputs": [],
   "source": [
    "all_tests['-log10p'] = -np.log10(all_tests.p) \n",
    "df = (all_tests\n",
    " .assign(log10p=np.log10(all_tests.p))\n",
    " .loc[(all_tests.p < 0.05) \n",
    "      & (all_tests.win_size == '100kb') \n",
    "      & all_tests['query'].isin(['ECH90', 'olivehama_edge_1bp'])\n",
    "      & (all_tests['annot'] == 'comp_edge_1bp')\n",
    "      & all_tests['pc_scale'].isin(['arms', '10Mb'])\n",
    "      , ['tissue', 'pc_scale', 'query', 'test', 'value', 'p', '-log10p']]\n",
    "     )\n",
    "                                   \n",
    "df.pivot(index=['pc_scale', 'query', 'test' ], columns=[\"tissue\"], values=\"-log10p\").fillna('-')"
   ]
  },
  {
   "cell_type": "code",
   "execution_count": null,
   "id": "c7583e92-8a48-40b5-94e9-537d54719b3d",
   "metadata": {},
   "outputs": [],
   "source": [
    "df = (all_tests\n",
    " .assign(log10p=np.log10(all_tests.p))\n",
    " .loc[(all_tests.p < 0.05) \n",
    "      & (all_tests.win_size == '100kb') \n",
    "      & all_tests['query'].isin(['ECH90', 'olivehama_edge_1bp'])\n",
    "      & (all_tests['annot'] == 'comp_edge_1bp')\n",
    "      & all_tests['pc_scale'].isin([10Mb'])\n",
    "      , ['tissue', 'pc_scale', 'query', 'test', 'value', 'p', 'log10p']]\n",
    ").sort_values(by=['tissue', 'query', 'test'])\n",
    "df.style.background_gradient(subset = [\"log10p\"], \n",
    "# df.style.text_gradient(subset = [\"log10p\"], \n",
    "                       cmap = \"Reds_r\", \n",
    "                       # vmin = df.log10p.min(), \n",
    "                       # vmax = df.log10p.max()\n",
    "                      )\n"
   ]
  },
  {
   "cell_type": "code",
   "execution_count": null,
   "id": "a8b1148c-0984-4eb2-bfed-f00cddbb6a1c",
   "metadata": {},
   "outputs": [],
   "source": [
    "df = (all_tests\n",
    " .assign(log10p=np.log10(all_tests.p))\n",
    " .loc[(all_tests.p < 0.05) \n",
    "      & (all_tests.win_size == '100kb') \n",
    "      & all_tests['query'].isin(['ECH90', 'olivehama_edge_1bp'])\n",
    "      & (all_tests['annot'] == 'comp_edge_1bp')\n",
    "      & all_tests['pc_scale'].isin(['arms'])\n",
    "      , ['tissue', 'pc_scale', 'query', 'test', 'value', 'p', 'log10p']]\n",
    ").sort_values(by=['tissue', 'query', 'test'])\n",
    "df.style.background_gradient(subset = [\"log10p\"], \n",
    "# df.style.text_gradient(subset = [\"log10p\"], \n",
    "                       cmap = \"Reds_r\", \n",
    "                       # vmin = df.log10p.min(), \n",
    "                       # vmax = df.log10p.max()\n",
    "                      )\n"
   ]
  },
  {
   "cell_type": "code",
   "execution_count": null,
   "id": "05efea7b-e92e-4105-8426-492769295c4c",
   "metadata": {},
   "outputs": [],
   "source": [
    "with pd.option_context('display.max_rows', None,):\n",
    "    display(all_tests.loc[(all_tests.p < 0.05) & all_tests['query'].isin(['ECH90', 'olivehama_edge_1bp'])])"
   ]
  },
  {
   "cell_type": "markdown",
   "id": "48b7d68f-c8ed-4349-9777-1872a79bdfd7",
   "metadata": {},
   "source": [
    "### ECH90"
   ]
  },
  {
   "cell_type": "code",
   "execution_count": null,
   "id": "0c510dff-9113-4109-bb5f-ecb3e6c3d49b",
   "metadata": {},
   "outputs": [],
   "source": [
    "query = ech90_human_Mmul_10\n",
    "annot = compartment_edge_segments\n",
    "stat, p = jaccard_test(query, annot)\n",
    "print('Jaccard overlap test:', stat, p)\n",
    "stat, p = proximity_test(query.loc[~overlaps(query, annot)], annot)\n",
    "print('Mean dist test:', stat, p)"
   ]
  },
  {
   "cell_type": "markdown",
   "id": "8fc14398-3f5d-46ec-8734-9ea0db0f778c",
   "metadata": {},
   "source": [
    "### 95% pure hamadryas regions"
   ]
  },
  {
   "cell_type": "code",
   "execution_count": null,
   "id": "baa441a7-b307-4893-8d46-edad5ec3265a",
   "metadata": {},
   "outputs": [],
   "source": [
    "query = hama_edge_segments\n",
    "annot = compartment_edge_segments\n",
    "stat, p = jaccard_test(query, annot)\n",
    "print('Jaccard overlap test:', stat, p)\n",
    "\n",
    "query = hama_edge_1bp\n",
    "annot = compartment_edge_1bp\n",
    "stat, p = proximity_test(query.loc[~overlaps(query, annot)], annot)\n",
    "print('Mean dist test:', stat, p)"
   ]
  },
  {
   "cell_type": "markdown",
   "id": "91054b6f-8954-41de-875d-003397576509",
   "metadata": {},
   "source": [
    "### 100% pure olive regions"
   ]
  },
  {
   "cell_type": "code",
   "execution_count": null,
   "id": "3044813c-c616-4846-a591-df2d08e2f285",
   "metadata": {},
   "outputs": [],
   "source": [
    "query = olive_edge_segments\n",
    "annot = compartment_edge_segments\n",
    "stat, p = jaccard_test(query, annot)\n",
    "print('Jaccard overlap test:', stat, p)\n",
    "\n",
    "query = olive_edge_1bp\n",
    "annot = compartment_edge_1bp\n",
    "stat, p = proximity_test(query.loc[~overlaps(query, annot)], annot)\n",
    "print('Mean dist test:', stat, p)"
   ]
  },
  {
   "cell_type": "code",
   "execution_count": null,
   "id": "454df9b1-eb0e-4c54-a676-e05b8760d005",
   "metadata": {},
   "outputs": [],
   "source": [
    "def find_le(a, x):\n",
    "    'Find rightmost value less than or equal to x'\n",
    "    i = bisect.bisect_right(a, x)\n",
    "    if i:\n",
    "        return i-1\n",
    "    raise ValueError\n",
    "\n",
    "def find_ge(a, x):\n",
    "    'Find leftmost item greater than or equal to x'\n",
    "    i = bisect.bisect_left(a, x)\n",
    "    if i != len(a):\n",
    "        return i\n",
    "    raise ValueError\n",
    "\n",
    "import bisect\n",
    "bisect.bisect_right([1, 2, 3, 4, 4, 5, 6], 4) # le\n",
    "len([1, 2, 3, 4, 4, 5, 6]) - bisect.bisect_left([1, 2, 3, 4, 4, 5, 6], 4) # ge"
   ]
  },
  {
   "cell_type": "code",
   "execution_count": null,
   "id": "300b73fd-5499-41d8-93ae-1a0fadc00d72",
   "metadata": {},
   "outputs": [],
   "source": [
    "query = high_olive_rhemac10\n",
    "annot = compartment_edge_1bp\n",
    "from genominterv.remapping import remap, remap_interval_data\n",
    "\n",
    "@bootstrap(chrom_sizes, samples=10000, return_boot=True, smaller=True)\n",
    "def statistic(query, annot):\n",
    "    stats = []\n",
    "    for t in query.itertuples():\n",
    "        if not (t.start and t.end):\n",
    "            continue\n",
    "        a = remap((t.start, t.start), list(zip(annot.start, annot.end)), relative=True)\n",
    "        b = remap((t.end, t.end), list(zip(annot.start, annot.end)), relative=True)\n",
    "        if a and b:\n",
    "            a = abs(a[0][0])\n",
    "            b = abs(b[0][0])\n",
    "            if np.isnan(a) or np.isnan(b):\n",
    "                continue\n",
    "#            print(a, b)\n",
    "            \n",
    "#            stats.append(1 / abs((a * b)) if a and b else 100)\n",
    "            # stats.append((np.log1p(a) * np.log1p(b) if np.log1p(a) and np.log1p(b) else 2))\n",
    "            # stats.append(a * b)\n",
    "            # stats.append(a * b)\n",
    "            stats.append(a)\n",
    "            stats.append(b)\n",
    "\n",
    "    #             stats.append(\n",
    "#               int(abs(a) < 200_000 and abs(b) < 200_000)              \n",
    "# #             1 - (np.exp(np.log1p(0.001) + np.log1p(0.1)) - 1)\n",
    "#             )\n",
    "        # else:\n",
    "        #     print(a, b)\n",
    "\n",
    "    return sum(stats)\n",
    "\n",
    "stat, p, boot = statistic(query, annot)\n",
    "stat, p\n",
    "# statistic(query, annot)\n"
   ]
  },
  {
   "cell_type": "code",
   "execution_count": null,
   "id": "f4d40de2-37a6-4c4c-8477-10b18bd1a850",
   "metadata": {},
   "outputs": [],
   "source": [
    "plt.hist(boot)\n",
    "#plt.axvline(stat, color='red')\n",
    "plt.axvline(stat, *plt.gca().get_ylim(), color='red')"
   ]
  },
  {
   "cell_type": "code",
   "execution_count": null,
   "id": "85c3402c-54f5-464d-9373-f61662b319e2",
   "metadata": {},
   "outputs": [],
   "source": [
    "np.log10(0.001)"
   ]
  },
  {
   "cell_type": "code",
   "execution_count": null,
   "id": "e4145702-5479-429a-b3fe-28666aaeffb6",
   "metadata": {},
   "outputs": [],
   "source": [
    "1 - (np.exp(np.log1p(0.001) * np.log1p(0.1)) - 1)"
   ]
  },
  {
   "cell_type": "code",
   "execution_count": null,
   "id": "bf238629-6f2b-43b1-87d9-31d4bb946231",
   "metadata": {},
   "outputs": [],
   "source": [
    "1/(0.1 * 0.02)"
   ]
  },
  {
   "cell_type": "code",
   "execution_count": null,
   "id": "fb6293df-1d93-48ed-8359-76d25c719aaa",
   "metadata": {},
   "outputs": [],
   "source": [
    "from genominterv.stats import jaccard_stat, proximity_stat\n",
    "from genominterv.decorators import bootstrap\n",
    "\n",
    "@bootstrap(chrom_sizes, samples=1000)\n",
    "def statistic(compartments, win_means):\n",
    "\n",
    "    purities = []\n",
    "    for t in compartments.itertuples():\n",
    "        north_sum = win_means.loc[(win_means.start >= t.start) & (win_means.end <= t.end)].north_sum \n",
    "        if len(north_sum):\n",
    "            prop_north_sum = north_sum / 100_000\n",
    "            mean_prop = prop_north_sum.mean()        \n",
    "            # purities.append(int(1-mean_prop > 0.75))\n",
    "            # purities.append(max(mean_prop, 1-mean_prop))\n",
    "            # purities.append(max(mean_prop, 1-mean_prop) > 0.80)\n",
    "            # purities.append(mean_prop < 0.329/2 or mean_prop > 0.329*2)\n",
    "            purities.append(np.maximum(prop_north_sum, 1-prop_north_sum).mean())\n",
    "    \n",
    "    return np.mean(np.array(purities))\n",
    "        \n",
    "statistic(compartments, win_means.loc[~np.isnan(win_means.north_sum)])"
   ]
  },
  {
   "cell_type": "markdown",
   "id": "a7790d3f-5bcd-4ce9-8a6a-a85b12db5556",
   "metadata": {},
   "source": [
    "## Genes overlapping ECH vs. Compartment edges"
   ]
  },
  {
   "cell_type": "code",
   "execution_count": null,
   "id": "e157f409-8b2c-4335-a8ce-c7f6500de74e",
   "metadata": {},
   "outputs": [],
   "source": [
    "sojern_genes = glist([\n",
    "    'AKAP4', 'ALG13', 'ATP7A', 'ATRX', 'BRCC3', 'CCNB3', 'CENPVL3', 'CLCN5', 'CLCN5', \n",
    "    'CMC4', 'COX7B', 'CYBB', 'DKC1', 'DYNLT3', 'ENOX2', 'F8', 'FAM120C', 'FUNDC2', 'H2AFB3', \n",
    "    'LANCL3', 'LAS1L', 'LOC114675151', 'LOC114675176', 'LOC114675180', 'LOC114675218', \n",
    "    'LOC114675231', 'LOC114675302', 'LOC695959', 'LOC696657', 'LOC703257', 'LOC706958', \n",
    "    'MAGT1', 'MIR188', 'MIR362', 'MIR500A', 'MIR500B', 'MIR501', 'MIR502', 'MIR532', 'MIR660',\n",
    "    'MIR7206', 'MPP1', 'MSN', 'MTCP1', 'PAGE4', 'RAP2C', 'SH3KBP1', 'SMIM9', 'TRPC5', 'USP27X', \n",
    "    'WNK3', 'XK', 'ZC3H12B' \n",
    "])\n",
    "sojern_genes"
   ]
  },
  {
   "cell_type": "code",
   "execution_count": null,
   "id": "312592e6-2fb2-4f6a-b956-99a7b13d08b3",
   "metadata": {},
   "outputs": [],
   "source": [
    "from geneinfo.utils import GoogleSheet, nice\n",
    "google_sheet = GoogleSheet()"
   ]
  },
  {
   "cell_type": "code",
   "execution_count": null,
   "id": "02768b18-fede-4080-bad6-cc3e958c80f0",
   "metadata": {},
   "outputs": [],
   "source": [
    "list(google_sheet)"
   ]
  },
  {
   "cell_type": "code",
   "execution_count": null,
   "id": "fe81370a-51f4-439c-b34f-f7804683e1ee",
   "metadata": {},
   "outputs": [],
   "source": [
    "[\n",
    " 'meritxell_spermatid_expr',\n",
    " 'mult_copy',\n",
    " 'all_post_mei_expr',\n",
    " 'msci',\n",
    " 'msci_esc',\n",
    " 'my_primate_codeml',\n",
    " 'cDEG',\n",
    " 'nDEG',\n",
    " 'primate_ampl_multi',\n",
    " 'gametologs',\n",
    " 'xi',\n",
    " 'xi_escape',\n",
    " 'xi_uncertain',\n",
    " 'xi_any_evidence',\n",
    " 'expr_mod_xi_copynr_fibrobl',\n",
    " 'expr_mod_xi_copynr_lcl',\n",
    " 'ari_relate_EUR',\n",
    " 'ari_relate_ASIA',\n",
    " 'ari_relate_AFR',\n",
    " 'ech90_regions',\n",
    " 'accel_reg_simiiformes_br'\n",
    "]\n",
    " "
   ]
  },
  {
   "cell_type": "code",
   "execution_count": null,
   "id": "3642f1c4-e1c2-45d6-a89f-cf6e2fd7358f",
   "metadata": {},
   "outputs": [],
   "source": [
    "test_lists = [\n",
    " 'xi_escape',\n",
    " 'meritxell_spermatid_expr',\n",
    "    \n",
    " 'expr_mod_xi_copynr_fibrobl',\n",
    "     'accel_reg_simiiformes_br',\n",
    " 'my_primate_codeml',\n",
    "\n",
    " # 'ari_all',\n",
    "     'mult_copy',\n",
    "\n",
    "]\n",
    " "
   ]
  },
  {
   "cell_type": "code",
   "execution_count": null,
   "id": "219b9c90-0e52-4ff2-8375-5966797e33b4",
   "metadata": {},
   "outputs": [],
   "source": [
    "from upsetplot import UpSet\n",
    "from upsetplot import from_contents\n",
    "\n",
    "# d = dict((n, list(google_sheet.get(n))) for n in test_lists)\n",
    "# d['sojern_genes'] = list(sojern_genes)\n",
    "# ax_dict = UpSet(from_contents(d),\n",
    "#                 show_counts=True).plot()"
   ]
  },
  {
   "cell_type": "code",
   "execution_count": null,
   "id": "1c2225c9-ae32-4cbd-87ec-f62739b9cee0",
   "metadata": {},
   "outputs": [],
   "source": [
    "\n",
    "gene_list = []\n",
    "for list_name in test_lists:\n",
    "    gene_list.extend(google_sheet.get(list_name))\n",
    "df = pd.DataFrame(dict(genes=sorted(set(gene_list))))\n",
    "for list_name in test_lists:\n",
    "    df[list_name] = df.genes.isin(google_sheet.get(list_name))\n",
    "\n",
    "df['sojern_genes'] = df.genes.isin(sojern_genes)\n",
    "\n",
    "df = df.set_index(test_lists + ['sojern_genes'])\n",
    "\n",
    "from upsetplot import UpSet\n",
    "ax_dict = UpSet(df.genes, show_counts=True, subset_size=\"count\").plot()\n",
    "\n",
    "# get list of all genes\n",
    "# iter list of all genes_list_sets\n",
    "#     iter all lists\n",
    "#         add coilumn\n",
    "#         column = gene.isin(gene_list_Set)\n",
    "\n",
    "# set index to new columns\n",
    "\n",
    "# for list_name in test_lists:\n",
    "#     genes = google_sheet.get(list_name)\n",
    "    "
   ]
  },
  {
   "cell_type": "code",
   "execution_count": null,
   "id": "ebd880d0-0ec4-460e-81b2-95d056abdd69",
   "metadata": {},
   "outputs": [],
   "source": [
    "from scipy.stats import fisher_exact\n",
    "\n",
    "background_set = set(google_sheet.get('all_npx'))\n",
    "set_a = set(google_sheet.get('meritxell_spermatid_expr'))\n",
    "set_b = set(sojern_genes)\n",
    "\n",
    "# ASD-related genes are more likely to be expressed in brain+spermatids than in only brain\n",
    "M = len(background_set) \n",
    "N = len(background_set.intersection(set_a)) \n",
    "n = len(background_set.intersection(set_b))\n",
    "x = len(background_set.intersection(set_b).intersection(set_a))\n",
    "\n",
    "table = [[  x,           n - x          ],\n",
    "         [ N - x,        M - (n + N) + x]]\n",
    "table, fisher_exact(table, alternative='greater').pvalue\n"
   ]
  },
  {
   "cell_type": "code",
   "execution_count": null,
   "id": "ad331c52-0d0a-4483-9f05-baded1ffa564",
   "metadata": {},
   "outputs": [],
   "source": [
    "list(google_sheet)"
   ]
  },
  {
   "cell_type": "code",
   "execution_count": null,
   "id": "1dc2f5c3-8119-45be-8be3-a87d3204e501",
   "metadata": {},
   "outputs": [],
   "source": [
    "google_sheet.get('ari_relate_AFR')"
   ]
  },
  {
   "cell_type": "code",
   "execution_count": null,
   "id": "b615d9a8-7dbe-43e1-a642-f4a747240c1b",
   "metadata": {},
   "outputs": [],
   "source": [
    "from upsetplot import generate_counts\n",
    "example = generate_counts()\n",
    "example"
   ]
  },
  {
   "cell_type": "code",
   "execution_count": null,
   "id": "f155fc48-af7b-472a-bc8c-e804bad3233c",
   "metadata": {},
   "outputs": [],
   "source": [
    "gi.gene_info(genes)"
   ]
  },
  {
   "cell_type": "markdown",
   "id": "58cc9266-68e2-462e-976a-b66a6b1e33b2",
   "metadata": {},
   "source": [
    "# THIS DOES NOT MAKE SENSE BECUASE THE LAI ARE IN PAPANU4 AND THE COMPARTMENTS ARE IN RHEMAC10"
   ]
  },
  {
   "cell_type": "markdown",
   "id": "e03227b7-026a-4d96-8322-9e9cdc23588c",
   "metadata": {},
   "source": [
    "## Read in baboon LAI"
   ]
  },
  {
   "cell_type": "code",
   "execution_count": null,
   "id": "98587b28-aeee-4cdd-9106-e23e82d2397e",
   "metadata": {},
   "outputs": [],
   "source": [
    "df = pd.read_hdf('mean_window_df_eth.h5')\n",
    "meta_data_samples = pd.read_csv(\"Papio_metadata_with_clustering.txt\", sep =\" \")\n",
    "gog_olives = meta_data_samples.loc[meta_data_samples.Origin == \"Gog Woreda, Gambella region, Ethiopia\"].PGDP_ID\n",
    "chrX_lai_eth = df.loc[df.individual.isin(gog_olives) & (df.chrom == 'all_chrX')].groupby([\"chrom\", \"individual\", \"start\", \"end\"]).mean().reset_index()\n",
    "chrX_lai_eth.head()"
   ]
  },
  {
   "cell_type": "code",
   "execution_count": null,
   "id": "70433f55-7125-4879-b038-527eb4f1f04c",
   "metadata": {},
   "outputs": [],
   "source": [
    "win_means = chrX_lai_eth.groupby(['start', 'end']).north_sum.mean().reset_index()\n",
    "win_means.head()"
   ]
  },
  {
   "cell_type": "code",
   "execution_count": null,
   "id": "e7b73dd5-4352-439b-b935-e4620c32a691",
   "metadata": {},
   "outputs": [],
   "source": [
    "plot_df = stairs(win_means)\n",
    "plt.figure(figsize=(12, 4))\n",
    "plt.fill_between(plot_df.pos, plot_df.north_sum)"
   ]
  },
  {
   "cell_type": "code",
   "execution_count": null,
   "id": "a371fd05-7e40-43a4-af5a-6c40f78d3ecc",
   "metadata": {},
   "outputs": [],
   "source": [
    "compartments['mean_north_sum'] = [win_means.loc[(win_means.start >= t.start) & (win_means.end <= t.end), :].north_sum.mean() for t in compartments.itertuples()]"
   ]
  },
  {
   "cell_type": "code",
   "execution_count": null,
   "id": "cabd5a8c-226b-42f1-84a0-53384c40ff99",
   "metadata": {},
   "outputs": [],
   "source": [
    "1 - win_means.north_sum.mean() / 100000"
   ]
  },
  {
   "cell_type": "code",
   "execution_count": null,
   "id": "07c2177b-f690-4a54-b98f-e0b19b898117",
   "metadata": {},
   "outputs": [],
   "source": [
    "sns.barplot(compartments, x='start', y='mean_north_sum')\n",
    "plt.axhline(y=win_means.north_sum.mean()) ;"
   ]
  },
  {
   "cell_type": "code",
   "execution_count": null,
   "id": "e9724852-9ac4-4505-90bd-a7fb0ff1e91c",
   "metadata": {},
   "outputs": [],
   "source": [
    "sns.histplot(compartments.mean_north_sum, bins=np.linspace(0, 100000, 50)) ;"
   ]
  },
  {
   "cell_type": "code",
   "execution_count": null,
   "id": "25925dc0-07ae-4f89-8803-cb06e37a0077",
   "metadata": {},
   "outputs": [],
   "source": [
    "compartments"
   ]
  },
  {
   "cell_type": "code",
   "execution_count": null,
   "id": "31700277-e018-4572-b0ad-a94f0c2b04d1",
   "metadata": {},
   "outputs": [],
   "source": [
    "chrom_sizes = {\n",
    "'chr1':\t227556264,\n",
    "'chr2':\t192460366,\n",
    "'chr3':\t192294377,\n",
    "'chr5':\t189454096,\n",
    "'chr6':\t181584905,\n",
    "'chr7':\t171882078,\n",
    "'chr4':\t170955103,\n",
    "# 'chrX':\t152835861,\n",
    "'chrX':\t153300000,\n",
    "'chr8':\t146850525,\n",
    "'chr11':\t137757926,\n",
    "'chr9':\t133195287,\n",
    "'chr12':\t132586672,\n",
    "'chr14':\t130733371,\n",
    "'chr15':\t112612857,\n",
    "'chr13':\t111193037,\n",
    "'chr17':\t96864807,\n",
    "'chr10':\t96509753,\n",
    "'chr16':\t80997621,\n",
    "'chr20':\t78541002,\n",
    "'chr18':\t75711847,\n",
    "'chr19':\t59248254,\n",
    "}"
   ]
  },
  {
   "cell_type": "code",
   "execution_count": null,
   "id": "c5dd4c1f-aa44-40ed-aad0-677ebd9a3c4e",
   "metadata": {},
   "outputs": [],
   "source": [
    "from genominterv.stats import jaccard_stat, proximity_stat\n",
    "from genominterv.decorators import bootstrap\n",
    "\n",
    "@bootstrap(chrom_sizes, samples=1000)\n",
    "def statistic(compartments, win_means):\n",
    "\n",
    "    purities = []\n",
    "    for t in compartments.itertuples():\n",
    "        north_sum = win_means.loc[(win_means.start >= t.start) & (win_means.end <= t.end)].north_sum \n",
    "        if len(north_sum):\n",
    "            prop_north_sum = north_sum / 100_000\n",
    "            mean_prop = prop_north_sum.mean()        \n",
    "            # purities.append(int(1-mean_prop > 0.75))\n",
    "            # purities.append(max(mean_prop, 1-mean_prop))\n",
    "            # purities.append(max(mean_prop, 1-mean_prop) > 0.80)\n",
    "            # purities.append(mean_prop < 0.329/2 or mean_prop > 0.329*2)\n",
    "            purities.append(np.maximum(prop_north_sum, 1-prop_north_sum).mean())\n",
    "    \n",
    "    return np.mean(np.array(purities))\n",
    "        \n",
    "statistic(compartments, win_means.loc[~np.isnan(win_means.north_sum)])"
   ]
  },
  {
   "cell_type": "code",
   "execution_count": null,
   "id": "72ae00b8-7dde-49c0-ab58-ca9be3d79772",
   "metadata": {},
   "outputs": [],
   "source": [
    "edge_segments = pd.DataFrame(np.column_stack((edges-100_000, edges+100_000)), columns=['start', 'end'])\n",
    "edge_segments['chrom'] = 'chrX'\n",
    "edge_segments"
   ]
  },
  {
   "cell_type": "code",
   "execution_count": null,
   "id": "53151857-3934-48c0-9a04-1c518b18bc8c",
   "metadata": {},
   "outputs": [],
   "source": [
    "\n",
    "@bootstrap('hg38')\n",
    "def proximity_test(q, a):\n",
    "\n",
    "    return proximity_stat(q, a)\n",
    "\n",
    "\n",
    "@bootstrap('hg38')\n",
    "def jaccard_test(q, a):\n",
    "\n",
    "    return jaccard_stat(q, a)\n",
    "\n",
    "\n",
    "def overlaps(df1, df2):\n",
    "    \"\"\"\n",
    "    Establishes whether each query segment overlaps at least one \n",
    "    annotation segment. Returns a boolean array with same length \n",
    "    as df1.index.\n",
    "    \"\"\"\n",
    "    overlapping = []\n",
    "    for i, (s1, e1) in enumerate(zip(df1.start, df1.end)):\n",
    "        overlaps = False\n",
    "        for s2, e2 in zip(df2.start, df2.end):\n",
    "            if e1 > s2 and e2 > s1:\n",
    "                overlaps = True\n",
    "                break\n",
    "        overlapping.append(overlaps)\n",
    "    return np.array(overlapping)\n",
    "\n",
    "\n",
    "stat, p = jaccard_test(query, annot)\n",
    "print('Jaccard overlap test:', stat, p)\n",
    "\n",
    "query_non_ovl = query.loc[~overlaps(query, annot)]   \n",
    "stat, p = mean_dist_test(query_non_ovl, annot)\n",
    "print('Mean dist test:', stat, p)"
   ]
  }
 ],
 "metadata": {
  "kernelspec": {
   "display_name": "Python 3 (ipykernel)",
   "language": "python",
   "name": "python3"
  },
  "language_info": {
   "codemirror_mode": {
    "name": "ipython",
    "version": 3
   },
   "file_extension": ".py",
   "mimetype": "text/x-python",
   "name": "python",
   "nbconvert_exporter": "python",
   "pygments_lexer": "ipython3",
   "version": "3.10.16"
  },
  "widgets": {
   "application/vnd.jupyter.widget-state+json": {
    "state": {},
    "version_major": 2,
    "version_minor": 0
   }
  }
 },
 "nbformat": 4,
 "nbformat_minor": 5
}
