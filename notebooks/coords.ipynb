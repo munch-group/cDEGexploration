{
 "cells": [
  {
   "cell_type": "code",
   "execution_count": null,
   "metadata": {},
   "outputs": [],
   "source": [
    "import pandas as pd\n",
    "import os\n",
    "\n",
    "# Directory containing your .csv files\n",
    "csv_dir = '../sojern/hic-spermatogenesis/results/rec_compartments/'\n",
    "\n",
    "# Create a dictionary to store the DataFrames\n",
    "dataframes = {}\n",
    "\n",
    "# Iterate over all .csv files in the directory\n",
    "for filename in os.listdir(csv_dir):\n",
    "    if filename.endswith('.csv') and 'e1' not in filename:  # Check for .csv files\n",
    "        # Construct the full file path\n",
    "        filepath = os.path.join(csv_dir, filename)\n",
    "        \n",
    "        # Load the CSV into a DataFrame\n",
    "        # Use the filename (without extension) as the dictionary key\n",
    "        key = filename.replace('_a_comp_coords_', '_')\n",
    "        key = os.path.splitext(key)[0]\n",
    "        dataframes[key] = pd.read_csv(filepath)\n",
    "        dataframes[key]['length'] = dataframes[key]['end'] - dataframes[key]['start']\n",
    "\n",
    "# The `dataframes` dictionary now contains the DataFrames\n",
    "dataframes.keys()\n"
   ]
  },
  {
   "cell_type": "code",
   "execution_count": null,
   "metadata": {},
   "outputs": [],
   "source": [
    "for key in dataframes:\n",
    "    dataframes[key].to_hdf(f'{key}.h5', key='df', format='table')"
   ]
  },
  {
   "cell_type": "code",
   "execution_count": null,
   "metadata": {},
   "outputs": [],
   "source": []
  },
  {
   "cell_type": "code",
   "execution_count": null,
   "metadata": {
    "jupyter": {
     "outputs_hidden": true
    }
   },
   "outputs": [],
   "source": [
    "%conda install -c conda-forge pytables"
   ]
  },
  {
   "cell_type": "code",
   "execution_count": null,
   "metadata": {},
   "outputs": [],
   "source": []
  }
 ],
 "metadata": {
  "kernelspec": {
   "display_name": "Python 3 (ipykernel)",
   "language": "python",
   "name": "python3"
  },
  "language_info": {
   "codemirror_mode": {
    "name": "ipython",
    "version": 3
   },
   "file_extension": ".py",
   "mimetype": "text/x-python",
   "name": "python",
   "nbconvert_exporter": "python",
   "pygments_lexer": "ipython3",
   "version": "3.12.0"
  },
  "widgets": {
   "application/vnd.jupyter.widget-state+json": {
    "state": {},
    "version_major": 2,
    "version_minor": 0
   }
  }
 },
 "nbformat": 4,
 "nbformat_minor": 4
}
