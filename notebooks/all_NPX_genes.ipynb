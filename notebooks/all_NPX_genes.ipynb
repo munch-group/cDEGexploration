{
 "cells": [
  {
   "cell_type": "code",
   "execution_count": 4,
   "id": "897a5035-c0a0-49b2-8073-0bfb2514ac49",
   "metadata": {},
   "outputs": [
    {
     "name": "stdout",
     "output_type": "stream",
     "text": [
      "env: http_proxy=http://proxy-default:3128\n",
      "env: https_proxy=http://proxy-default:3128\n"
     ]
    }
   ],
   "source": [
    "import pandas as pd\n",
    "import numpy as np\n",
    "\n",
    "#sys.path.append('.')\n",
    "\n",
    "import geneinfo as gi\n",
    "gi.email('kaspermunch@birc.au.dk')\n",
    "   \n",
    "%env http_proxy=http://proxy-default:3128\n",
    "%env https_proxy=http://proxy-default:3128     "
   ]
  },
  {
   "cell_type": "code",
   "execution_count": 10,
   "id": "096073d2-dfc3-4a4a-97d5-e13f9b13efc9",
   "metadata": {},
   "outputs": [],
   "source": [
    "all_NPX_genes = gi.get_genes_region_dataframe('chrX', 2781479, 156030895, assembly='hg38').drop_duplicates('name').name.sort_values()\n"
   ]
  },
  {
   "cell_type": "code",
   "execution_count": 11,
   "id": "1a83bc12-295a-47a5-90c6-596a865e678a",
   "metadata": {},
   "outputs": [],
   "source": [
    "with open('all_NPX_genes.txt', 'w') as f:\n",
    "    for name in all_NPX_genes:\n",
    "        print(name, file=f)\n",
    "    "
   ]
  },
  {
   "cell_type": "code",
   "execution_count": 15,
   "id": "3897d06c-705b-4bcc-a8ed-d245f6952b7d",
   "metadata": {},
   "outputs": [
    {
     "data": {
      "text/html": [
       "<div>\n",
       "<style scoped>\n",
       "    .dataframe tbody tr th:only-of-type {\n",
       "        vertical-align: middle;\n",
       "    }\n",
       "\n",
       "    .dataframe tbody tr th {\n",
       "        vertical-align: top;\n",
       "    }\n",
       "\n",
       "    .dataframe thead th {\n",
       "        text-align: right;\n",
       "    }\n",
       "</style>\n",
       "<table border=\"1\" class=\"dataframe\">\n",
       "  <thead>\n",
       "    <tr style=\"text-align: right;\">\n",
       "      <th></th>\n",
       "      <th>pos</th>\n",
       "      <th>peak_start</th>\n",
       "      <th>peak_end</th>\n",
       "      <th>peak_prop_swept</th>\n",
       "      <th>start_pos</th>\n",
       "      <th>end_pos</th>\n",
       "      <th>prop_swept</th>\n",
       "      <th>swept_indivs</th>\n",
       "    </tr>\n",
       "  </thead>\n",
       "  <tbody>\n",
       "    <tr>\n",
       "      <th>0</th>\n",
       "      <td>19850000.0</td>\n",
       "      <td>19800000</td>\n",
       "      <td>19900000</td>\n",
       "      <td>0.828571</td>\n",
       "      <td>19500000</td>\n",
       "      <td>20300000</td>\n",
       "      <td>0.650000</td>\n",
       "      <td>['B_Australian-4', 'B_Dai-4', 'B_French-3', 'B...</td>\n",
       "    </tr>\n",
       "    <tr>\n",
       "      <th>1</th>\n",
       "      <td>21250000.0</td>\n",
       "      <td>21200000</td>\n",
       "      <td>21300000</td>\n",
       "      <td>0.814286</td>\n",
       "      <td>20700000</td>\n",
       "      <td>21700000</td>\n",
       "      <td>0.621429</td>\n",
       "      <td>['B_Australian-4', 'B_French-3', 'B_Karitiana-...</td>\n",
       "    </tr>\n",
       "    <tr>\n",
       "      <th>2</th>\n",
       "      <td>36300000.0</td>\n",
       "      <td>36200000</td>\n",
       "      <td>36400000</td>\n",
       "      <td>0.664286</td>\n",
       "      <td>35900000</td>\n",
       "      <td>36700000</td>\n",
       "      <td>0.507143</td>\n",
       "      <td>['B_Han-3', 'B_Sardinian-3', 'S_Abkhasian-2', ...</td>\n",
       "    </tr>\n",
       "    <tr>\n",
       "      <th>3</th>\n",
       "      <td>37500000.0</td>\n",
       "      <td>37300000</td>\n",
       "      <td>37700000</td>\n",
       "      <td>0.507143</td>\n",
       "      <td>37200000</td>\n",
       "      <td>37700000</td>\n",
       "      <td>0.500000</td>\n",
       "      <td>['B_Crete-2', 'B_Dai-4', 'B_Han-3', 'B_Karitia...</td>\n",
       "    </tr>\n",
       "    <tr>\n",
       "      <th>4</th>\n",
       "      <td>49750000.0</td>\n",
       "      <td>49500000</td>\n",
       "      <td>50000000</td>\n",
       "      <td>0.528571</td>\n",
       "      <td>49500000</td>\n",
       "      <td>50000000</td>\n",
       "      <td>0.528571</td>\n",
       "      <td>['B_Australian-4', 'B_French-3', 'B_Papuan-15'...</td>\n",
       "    </tr>\n",
       "  </tbody>\n",
       "</table>\n",
       "</div>"
      ],
      "text/plain": [
       "          pos  peak_start  peak_end  peak_prop_swept  start_pos   end_pos  \\\n",
       "0  19850000.0    19800000  19900000         0.828571   19500000  20300000   \n",
       "1  21250000.0    21200000  21300000         0.814286   20700000  21700000   \n",
       "2  36300000.0    36200000  36400000         0.664286   35900000  36700000   \n",
       "3  37500000.0    37300000  37700000         0.507143   37200000  37700000   \n",
       "4  49750000.0    49500000  50000000         0.528571   49500000  50000000   \n",
       "\n",
       "   prop_swept                                       swept_indivs  \n",
       "0    0.650000  ['B_Australian-4', 'B_Dai-4', 'B_French-3', 'B...  \n",
       "1    0.621429  ['B_Australian-4', 'B_French-3', 'B_Karitiana-...  \n",
       "2    0.507143  ['B_Han-3', 'B_Sardinian-3', 'S_Abkhasian-2', ...  \n",
       "3    0.500000  ['B_Crete-2', 'B_Dai-4', 'B_Han-3', 'B_Karitia...  \n",
       "4    0.528571  ['B_Australian-4', 'B_French-3', 'B_Papuan-15'...  "
      ]
     },
     "execution_count": 15,
     "metadata": {},
     "output_type": "execute_result"
    }
   ],
   "source": [
    "extended_peak_regions_75 = pd.read_hdf('/home/kmt/simons/faststorage/people/kmt/results/extended_peak_regions_5e-05_25%_75%.hdf')\n",
    "extended_peak_regions_75.head()"
   ]
  },
  {
   "cell_type": "code",
   "execution_count": 16,
   "id": "c2fc2600-7fdb-4dd1-8fd4-ce0149d53586",
   "metadata": {},
   "outputs": [
    {
     "name": "stdout",
     "output_type": "stream",
     "text": [
      "19500000 20300000\n",
      "20700000 21700000\n",
      "35900000 36700000\n",
      "37200000 37700000\n",
      "49500000 50000000\n",
      "50800000 51300000\n",
      "53900000 54400000\n",
      "64500000 65200000\n",
      "72800000 73500000\n",
      "73800000 74400000\n",
      "76700000 77400000\n",
      "98500000 99100000\n",
      "109400000 111200000\n",
      "113800000 114500000\n",
      "126800000 127500000\n",
      "129700000 130200000\n",
      "131100000 131600000\n",
      "132500000 133100000\n",
      "153900000 154500000\n"
     ]
    }
   ],
   "source": [
    "for tup in extended_peak_regions_75.itertuples():\n",
    "    print(tup.start_pos, tup.end_pos)"
   ]
  },
  {
   "cell_type": "code",
   "execution_count": 18,
   "id": "0594153b-16b3-4b66-a08c-f2f4baaf5abf",
   "metadata": {},
   "outputs": [],
   "source": [
    "lst = []\n",
    "for tup in extended_peak_regions_75.itertuples():\n",
    "    lst.append(gi.get_genes_region_dataframe('chrX', tup.start_pos, tup.end_pos, assembly='hg19').drop_duplicates('name'))\n",
    "df = pd.concat(lst)\n",
    "with open('ECH_75_genes.txt', 'w') as f:\n",
    "    for name in df.name.sort_values():\n",
    "        print(name, file=f)"
   ]
  }
 ],
 "metadata": {
  "kernelspec": {
   "display_name": "Python 3 (ipykernel)",
   "language": "python",
   "name": "python3"
  },
  "language_info": {
   "codemirror_mode": {
    "name": "ipython",
    "version": 3
   },
   "file_extension": ".py",
   "mimetype": "text/x-python",
   "name": "python",
   "nbconvert_exporter": "python",
   "pygments_lexer": "ipython3",
   "version": "3.10.9"
  }
 },
 "nbformat": 4,
 "nbformat_minor": 5
}
