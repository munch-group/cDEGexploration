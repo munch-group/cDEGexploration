{
 "cells": [
  {
   "cell_type": "code",
   "execution_count": null,
   "id": "aca8cfb2-a341-4d3b-8451-f88aace629f0",
   "metadata": {},
   "outputs": [],
   "source": [
    "%load_ext autoreload\n",
    "%autoreload 2"
   ]
  },
  {
   "cell_type": "code",
   "execution_count": null,
   "id": "b0951b5a-73d1-49d7-bb80-0c2c14ade6b1",
   "metadata": {},
   "outputs": [],
   "source": [
    "import pandas as pd\n",
    "import numpy as np\n",
    "import matplotlib.pyplot as plt\n",
    "import seaborn as sns\n",
    "from collections import OrderedDict\n",
    "from IPython.display import Markdown\n",
    "\n",
    "%matplotlib inline\n",
    "%config InlineBackend.figure_format='svg'\n",
    "\n",
    "from genominterv.decorators import bootstrap\n",
    "from genominterv.stats import proximity_stat, jaccard_stat\n",
    "\n",
    "from scipy.stats import fisher_exact\n",
    "\n",
    "import geneinfo.plot as gplt\n",
    "import geneinfo.information as gi\n",
    "import geneinfo.utils as utils\n",
    "# utils.clear_cache()\n",
    "# utils.disable_cache = True\n",
    "from geneinfo.utils import GeneListCollection\n",
    "from geneinfo.utils import GeneList as glist\n",
    "\n",
    "sheet = GeneListCollection(google_sheet='1JSjSLuto3jqdEnnG7JqzeC_1pUZw76n7XueVAYrUOpk')\n",
    "\n",
    "def fisher(background_set, set_a, set_b):\n",
    "    M = len(background_set) \n",
    "    N = len(background_set.intersection(set_a)) \n",
    "    n = len(background_set.intersection(set_b))\n",
    "    x = len(background_set.intersection(set_b).intersection(set_a))\n",
    "    table = [[  x,           n - x          ],\n",
    "             [ N - x,        M - (n + N) + x]]\n",
    "    return table, fisher_exact(table, alternative='greater').pvalue, glist(sorted(set_a.intersection(set_b)))"
   ]
  },
  {
   "cell_type": "markdown",
   "id": "0eaa4659-a045-4a01-ac8f-5f3400d8120d",
   "metadata": {},
   "source": [
    "# Gene lists"
   ]
  },
  {
   "cell_type": "code",
   "execution_count": null,
   "id": "75f8d742-a49c-4e6a-8c4d-4eea0aa3ba39",
   "metadata": {},
   "outputs": [],
   "source": [
    "#| label: tbl-ech90-genelist\n",
    "sheet.get('ech90_regions') << sheet.get('cDEG') << sheet.get('xi_escape') << sheet.get('gametologs')"
   ]
  },
  {
   "cell_type": "markdown",
   "id": "a229e6e3-e8e3-4187-8e3a-587a10e385e4",
   "metadata": {},
   "source": [
    "# Human-Neanderthal introgression"
   ]
  },
  {
   "cell_type": "markdown",
   "id": "7f5feceb-6d07-4c52-bc5b-c7e67b71d164",
   "metadata": {},
   "source": [
    "Also include these in the admixture project and import to this:\n",
    "\n",
    "```txt\n",
    "argweaver-d/introgressionHub/files/M1A/afr1.bed\n",
    "argweaver-d/introgressionHub/files/M1A/afr2.bed\n",
    "argweaver-d/introgressionHub/files/M1A/any.bed\n",
    "argweaver-d/introgressionHub/files/M1A/den.bed\n",
    "argweaver-d/introgressionHub/files/M1A/notfixed.bed\n",
    "```"
   ]
  },
  {
   "cell_type": "code",
   "execution_count": null,
   "id": "00111063-f277-4b89-916b-902307b0dcbf",
   "metadata": {},
   "outputs": [],
   "source": [
    "altai_segments = pd.read_csv('../data/argweaver-d/introgressionHub/files/M1A/alt.bed', \n",
    "                             sep='\\t', names=['chrom', 'start', 'end', 'label', 'X1', 'X2', 'X3', 'X4', 'X5'])\n",
    "vindia_segments = pd.read_csv('../data/argweaver-d/introgressionHub/files/M1A/vin.bed', \n",
    "                             sep='\\t', names=['chrom', 'start', 'end', 'label', 'X1', 'X2', 'X3', 'X4', 'X5'])"
   ]
  },
  {
   "cell_type": "code",
   "execution_count": null,
   "id": "a1f4510f-ff62-493d-88ee-681b0987438d",
   "metadata": {},
   "outputs": [],
   "source": [
    "altai_het_coord = altai_segments.loc[altai_segments.label.str.startswith('humToAltNea.het'), ['chrom', 'start', 'end', 'label']]\n",
    "altai_hom_coord = altai_segments.loc[altai_segments.label.str.startswith('humToAltNea.hom'), ['chrom', 'start', 'end', 'label']]\n",
    "vindia_het_coord = vindia_segments.loc[vindia_segments.label.str.startswith('humToVinNea.het'), ['chrom', 'start', 'end', 'label']]\n",
    "vindia_hom_coord = vindia_segments.loc[vindia_segments.label.str.startswith('humToVinNea.hom'), ['chrom', 'start', 'end', 'label']]"
   ]
  },
  {
   "cell_type": "code",
   "execution_count": null,
   "id": "d323a10a-cb3f-4fa0-ad16-121f1ba94e7a",
   "metadata": {},
   "outputs": [],
   "source": [
    "plot_df = pd.concat([altai_segments, vindia_segments])\n",
    "plot_df['kind'] = [x.rsplit('.', 1)[0] for x in plot_df.label]\n",
    "plot_df['length'] = plot_df.end - plot_df.start\n",
    "plot_df['chrom_group'] = plot_df.chrom\n",
    "plot_df.loc[plot_df.chrom.isin(list(f'chr{x}' for x in range(1,23))), 'chrom_group'] = 'autosome'"
   ]
  },
  {
   "cell_type": "code",
   "execution_count": null,
   "id": "616acefb-1af0-4dfb-a8ce-9a225a2c5e7d",
   "metadata": {},
   "outputs": [],
   "source": [
    "#| label: fig-hum-nean-length-distribution\n",
    "\n",
    "g = sns.FacetGrid(data=plot_df.loc[plot_df.label.str.startswith('hum')], col='kind', \n",
    "                  col_wrap=2, hue='chrom_group', aspect=2)\n",
    "g.map(sns.histplot, 'length', stat='density', bins=range(0, 700000, 50000)) ;"
   ]
  },
  {
   "cell_type": "code",
   "execution_count": null,
   "id": "f91a9733-cb85-4903-8f57-837dc863f451",
   "metadata": {},
   "outputs": [],
   "source": [
    "altai_annot = [(x.chrom, x.start, x.end) for x in altai_hom_coord.itertuples()] + \\\n",
    "    [(x.chrom, x.start, x.end) for x in altai_het_coord.itertuples()]\n",
    "vindia_annot = [(x.chrom, x.start, x.end) for x in vindia_hom_coord.itertuples()] + \\\n",
    "    [(x.chrom, x.start, x.end) for x in vindia_het_coord.itertuples()]\n",
    "\n",
    "#gi.chrom_ideogram(altai_annot + vindia_annot, figsize=(12,8))"
   ]
  },
  {
   "cell_type": "code",
   "execution_count": null,
   "id": "568c6597-b33f-41a9-afce-eec1b4eaa7fc",
   "metadata": {},
   "outputs": [],
   "source": [
    "#| label: fig-hum-nean-genome-ideogram-tall\n",
    "#| fig-cap: \"Modern human introgression into Neanderthals ~250,000 BP\"\n",
    "\n",
    "g = gplt.GenomeIdeogram(assembly='hg19', axes_height_inches=0.4, axes_width_inches=8)\n",
    "g.draw_chromosomes(height=4)\n",
    "g.add_segments(altai_annot, facecolor='red', base=4, height=2, label='Altai')\n",
    "g.add_segments(vindia_annot, facecolor='blue', base=6, height=2, label='Vindia')\n",
    "#gid.add_legend()"
   ]
  },
  {
   "cell_type": "code",
   "execution_count": null,
   "id": "f02fdc4c-9c05-44aa-8d1a-dfc56f08a44a",
   "metadata": {},
   "outputs": [],
   "source": [
    "#| label: fig-hum-nean-genome-ideogram\n",
    "\n",
    "g = gplt.GenomeIdeogram(assembly='hg19', axes_height_inches=0.3) \n",
    "g.draw_chromosomes(height=4)\n",
    "g.add_segments(altai_annot, facecolor='red', base=4, height=2, label='Altai')\n",
    "g.add_segments(vindia_annot, facecolor='blue', base=6, height=2, label='Vindia')\n",
    "#gid.add_legend()"
   ]
  },
  {
   "cell_type": "code",
   "execution_count": null,
   "id": "ffafc12c-e699-454c-a714-0fefc9b82c9a",
   "metadata": {},
   "outputs": [],
   "source": [
    "g = gplt.ChromIdeogram('chrX', assembly='hg19') \n",
    "g.draw_chromosomes()\n",
    "g.add_segments([x for x in altai_annot if x[0] == 'chrX'], facecolor='red', base=4, height=1, label='Altai')\n",
    "g.add_segments([x for x in vindia_annot if x[0] == 'chrX'], facecolor='blue', base=5, height=1, label='Vindia')\n",
    "g.add_legend()"
   ]
  },
  {
   "cell_type": "code",
   "execution_count": null,
   "id": "d40d650e-8df5-4d76-b577-0a1d3438a1ac",
   "metadata": {},
   "outputs": [],
   "source": [
    "import geneinfo.information as gi\n",
    "import geneinfo.plot as gplt"
   ]
  },
  {
   "cell_type": "code",
   "execution_count": null,
   "id": "860f27fa-348e-47c1-941f-90257d29f81d",
   "metadata": {},
   "outputs": [],
   "source": [
    "g = gplt.ChromIdeogram('chr6', assembly='hg19',\n",
    "                      zooms=[(80_000_000, 90_000_000)]) \n",
    "g.draw_chromosomes()\n",
    "g.add_segments([x for x in altai_annot if x[0] == 'chr6'], facecolor='red', base=4, height=1, label='Altai')\n",
    "g.add_segments([x for x in vindia_annot if x[0] == 'chr6'], facecolor='blue', base=5, height=1, label='Vindia')\n",
    "g.add_labels(gi.gene_labels_region('chr6', 80_000_000, 90_000_000, assembly='hg19'))\n",
    "g.add_legend()"
   ]
  },
  {
   "cell_type": "code",
   "execution_count": null,
   "id": "d3db88a3-cf84-4278-9b49-3e537fb543c4",
   "metadata": {},
   "outputs": [],
   "source": [
    "lst = []\n",
    "for chrom, start, end in altai_annot:\n",
    "    if chrom != 'chrX':\n",
    "        continue\n",
    "    lst.extend([x[0] for x in gi.gene_coords_region(chrom, start, end, assembly='hg19')])\n",
    "hum_altai_genes = glist(sorted(set(lst)))\n",
    "hum_altai_genes"
   ]
  },
  {
   "cell_type": "code",
   "execution_count": null,
   "id": "9976202f-8b65-4172-8c47-9ca6fd0756e8",
   "metadata": {},
   "outputs": [],
   "source": [
    "lst = []\n",
    "for chrom, start, end in vindia_annot:\n",
    "    if chrom != 'chrX':\n",
    "        continue\n",
    "    lst.extend([x[0] for x in gi.gene_coords_region(chrom, start, end, assembly='hg19')])\n",
    "hum_vindia_genes = glist(sorted(set(lst)))\n",
    "hum_vindia_genes"
   ]
  },
  {
   "cell_type": "code",
   "execution_count": null,
   "id": "a1b844bf-f8ce-4d77-9054-f90be7ae2c33",
   "metadata": {},
   "outputs": [],
   "source": [
    "hum_nean_genes = hum_altai_genes | hum_vindia_genes\n",
    "hum_nean_genes"
   ]
  },
  {
   "cell_type": "markdown",
   "id": "60886c7a-7488-40fa-9e82-2158f5c3e4a9",
   "metadata": {},
   "source": [
    "**NB:** removing microRNA genes from set overlapping human to neanderthal admixture (for a fair comparison since Meritxell is not able to find miRNAs):"
   ]
  },
  {
   "cell_type": "code",
   "execution_count": null,
   "id": "86023779-25e3-425f-a1b2-111a01679d75",
   "metadata": {},
   "outputs": [],
   "source": [
    "human_nean_genes = glist([g for g in hum_nean_genes if not g.startswith('MIR')])\n",
    "human_nean_genes << hum_altai_genes"
   ]
  },
  {
   "cell_type": "markdown",
   "id": "82318f12-880f-4d01-bc08-b6bc8ce05642",
   "metadata": {},
   "source": [
    "## Overlap hum-nean with cDEG genes"
   ]
  },
  {
   "cell_type": "code",
   "execution_count": null,
   "id": "aa4533ba-5833-43d4-8d9d-0785d8c5fbc4",
   "metadata": {},
   "outputs": [],
   "source": [
    "#| label: fig-hum-nean-cDEG-overlap\n",
    "\n",
    "g = gplt.ChromIdeogram('chrX', assembly='hg19', #rel_font_height=0.04,\n",
    "    zooms=[\n",
    "        (19_000_000, 22_000_000),\n",
    "        (37_000_000, 39_000_000),\n",
    "        (48_000_000, 50_000_000),\n",
    "        (96_000_000, 98_000_000),\n",
    "        (107_000_000, 108_000_000),\n",
    "        (114_000_000, 115_000_000),\n",
    "        (118_000_000, 120_000_000),\n",
    "        (128_000_000, 130_000_000),\n",
    "    ]\n",
    ")\n",
    "g.draw_chromosomes()\n",
    "g.add_segments(list(filter(lambda x: x[0] == 'chrX', altai_annot)), facecolor='tab:orange', base=4, height=1, label='Altai', alpha=0.7)\n",
    "g.add_segments(list(filter(lambda x: x[0] == 'chrX', vindia_annot)), facecolor='tab:green', base=5, height=1, label='Vindia', alpha=0.7)\n",
    "\n",
    "# def color(name):\n",
    "#     return 'black' if name in hum_nean_genes else 'black'\n",
    "\n",
    "coords = gi.gene_labels(sheet.get('cDEG'), assembly='hg19')\n",
    "g.add_labels(coords, base=g.ideogram_base, min_height=g.ideogram_height*1.5, zorder=10, color='black')\n",
    "# coords.extend(\n",
    "#     [(tup[0], (tup[1]+tup[2])/2, name) for name, tup in gi.gene_coord(cDEG_genes, species='homo_sapiens', assembly='hg19').items()]\n",
    "# )\n",
    "# g.add_labels(coords, base=g.ideogram_base, min_height=g.ideogram_height*1.5, zorder=10, color='red')\n",
    "g.add_legend()"
   ]
  },
  {
   "cell_type": "code",
   "execution_count": null,
   "id": "c2cc4194-609c-479e-8d2d-cf0cb5a4d1fc",
   "metadata": {},
   "outputs": [],
   "source": [
    "#| label: doc-hum-nean-cDEG-overlap-fisher\n",
    "\n",
    "human_nean_genes << sheet.get('cDEG')"
   ]
  },
  {
   "cell_type": "code",
   "execution_count": null,
   "id": "9bbb1a1c-abd0-49b5-a374-a0f78355e2f1",
   "metadata": {},
   "outputs": [],
   "source": [
    "human_nean_genes.fisher(sheet.get('cDEG'), sheet.get('all_npx'))"
   ]
  },
  {
   "cell_type": "markdown",
   "id": "8fa6485b-05e4-45b7-ad4d-1c048603393e",
   "metadata": {},
   "source": [
    "## Overlap hum-nean with nDEG genes"
   ]
  },
  {
   "cell_type": "code",
   "execution_count": null,
   "id": "e74dc9bb-34b2-4b3f-9499-8114eecc70fc",
   "metadata": {},
   "outputs": [],
   "source": [
    "g = gplt.ChromIdeogram('chrX', assembly='hg19', #rel_font_height=0.04,\n",
    "    zooms=[\n",
    "        (11_000_000, 14_000_000),\n",
    "        (19_000_000, 22_000_000),\n",
    "        (37_000_000, 39_000_000),\n",
    "        (48_000_000, 50_000_000),\n",
    "        (96_000_000, 98_000_000),\n",
    "        (107_000_000, 109_000_000),\n",
    "        (114_000_000, 116_000_000),\n",
    "        (118_000_000, 121_000_000),\n",
    "        (128_000_000, 131_000_000),\n",
    "        (135_000_000, 137_000_000),\n",
    "        (144_000_000, 152_000_000),\n",
    "    ]\n",
    ")\n",
    "g.draw_chromosomes()\n",
    "g.add_segments(list(filter(lambda x: x[0] == 'chrX', altai_annot)), facecolor='tab:orange', base=4, height=1, label='Altai', alpha=0.7)\n",
    "g.add_segments(list(filter(lambda x: x[0] == 'chrX', vindia_annot)), facecolor='tab:green', base=5, height=1, label='Vindia', alpha=0.7)\n",
    "\n",
    "coords = gi.gene_labels(sheet.get('nDEG'), assembly='hg19')\n",
    "g.add_labels(coords, base=g.ideogram_base, min_height=g.ideogram_height*1.5, zorder=10, color='black')\n",
    "g.add_legend()"
   ]
  },
  {
   "cell_type": "code",
   "execution_count": null,
   "id": "bee8c138-6d55-4dc8-8b16-24e555198faf",
   "metadata": {},
   "outputs": [],
   "source": [
    "human_nean_genes.fisher(sheet.get('nDEG'), sheet.get('all_npx'))"
   ]
  },
  {
   "cell_type": "markdown",
   "id": "e7623c50-392d-4d96-91a6-7703e59e876b",
   "metadata": {},
   "source": [
    "## cDEG eith human-neanm Xie, Gametologs, Xi_copy_modul"
   ]
  },
  {
   "cell_type": "code",
   "execution_count": null,
   "id": "9feb7c73-fa54-4008-ace8-9fcc49e828fc",
   "metadata": {},
   "outputs": [],
   "source": [
    "sheet.get('xi_escape') << sheet.get('nDEG')"
   ]
  },
  {
   "cell_type": "code",
   "execution_count": null,
   "id": "fd6d014c-770c-466d-800a-782b06e7548b",
   "metadata": {},
   "outputs": [],
   "source": [
    "sheet.get('xi_escape').fisher(sheet.get('nDEG'), sheet.get('all_npx'))"
   ]
  },
  {
   "cell_type": "code",
   "execution_count": null,
   "id": "2b747db2-fa87-44b1-8711-a983e217cb3d",
   "metadata": {},
   "outputs": [],
   "source": [
    "sheet.get('gametologs') << sheet.get('nDEG')"
   ]
  },
  {
   "cell_type": "code",
   "execution_count": null,
   "id": "12d9f242-047e-48c7-81cd-75a19ef25207",
   "metadata": {},
   "outputs": [],
   "source": [
    "sheet.get('gametologs').fisher(sheet.get('nDEG'), sheet.get('all_npx'))"
   ]
  },
  {
   "cell_type": "code",
   "execution_count": null,
   "id": "a2d42e94-430a-4e4c-8ed4-82f1ac2c091d",
   "metadata": {},
   "outputs": [],
   "source": [
    "sheet.get('expr_mod_xi_copynr')"
   ]
  },
  {
   "cell_type": "code",
   "execution_count": null,
   "id": "f4926793-a88a-4f65-9010-7b033fb9b885",
   "metadata": {},
   "outputs": [],
   "source": [
    "sheet.get('xi_escape') & sheet.get('gametologs') & sheet.get('expr_mod_xi_copynr')"
   ]
  },
  {
   "cell_type": "code",
   "execution_count": null,
   "id": "4d008232-44d3-46eb-9fac-161a41985a46",
   "metadata": {},
   "outputs": [],
   "source": [
    "(sheet.get('xi_escape') & sheet.get('gametologs') & sheet.get('expr_mod_xi_copynr')).fisher(sheet.get('nDEG'), sheet.get('all_npx'))"
   ]
  },
  {
   "cell_type": "code",
   "execution_count": null,
   "id": "a3077497-7743-4d4f-acb3-4c868805a298",
   "metadata": {},
   "outputs": [],
   "source": [
    "(sheet.get('xi_escape') & sheet.get('gametologs')).fisher(sheet.get('nDEG'), sheet.get('all_npx'))"
   ]
  },
  {
   "cell_type": "code",
   "execution_count": null,
   "id": "21c8a04b-379a-4265-8315-979b27a8a6d8",
   "metadata": {},
   "outputs": [],
   "source": [
    "sheet.get('expr_mod_xi_copynr')"
   ]
  },
  {
   "cell_type": "code",
   "execution_count": null,
   "id": "c80b82e3-3e3d-453a-9ba7-81764bac35b3",
   "metadata": {},
   "outputs": [],
   "source": [
    "sheet.get('expr_mod_xi_copynr').fisher(sheet.get('cDEG'), sheet.get('all_npx'))"
   ]
  },
  {
   "cell_type": "code",
   "execution_count": null,
   "id": "a5f73405-748d-4078-a9e2-f8c241816a52",
   "metadata": {},
   "outputs": [],
   "source": [
    "sheet.get('accel_reg_simiiformes_br')"
   ]
  },
  {
   "cell_type": "code",
   "execution_count": null,
   "id": "c26e20a2-8209-4792-9fcf-ea7fd4e2f60e",
   "metadata": {},
   "outputs": [],
   "source": [
    "sheet.get('accel_reg_simiiformes_br').fisher(sheet.get('cDEG'), sheet.get('all_npx'))"
   ]
  },
  {
   "cell_type": "code",
   "execution_count": null,
   "id": "a56756f8-6598-4da3-8388-4f02090ffed6",
   "metadata": {},
   "outputs": [],
   "source": [
    "sheet.get('ari_nonPUR')"
   ]
  },
  {
   "cell_type": "code",
   "execution_count": null,
   "id": "f442e0f9-67d8-440a-8302-40e4dc64626b",
   "metadata": {},
   "outputs": [],
   "source": [
    "sheet.get('ari_nonPUR').fisher(sheet.get('cDEG'), sheet.get('all_npx'))"
   ]
  },
  {
   "cell_type": "code",
   "execution_count": null,
   "id": "2451f43d-d3c0-42a7-a5fc-16d8e2b27d23",
   "metadata": {},
   "outputs": [],
   "source": [
    "((sheet.get('ech90_regions') | hum_nean_genes) & sheet.get('xi_escape')).fisher(sheet.get('cDEG'), sheet.get('all_npx'))"
   ]
  },
  {
   "cell_type": "code",
   "execution_count": null,
   "id": "eed90b32-7cf1-4a22-9f98-2f6159f6df97",
   "metadata": {},
   "outputs": [],
   "source": [
    "hum_nean_genes.fisher(sheet.get('cDEG'), sheet.get('all_npx'))"
   ]
  },
  {
   "cell_type": "markdown",
   "id": "fc2853f8-2734-44f8-b7c2-7d15d91df71b",
   "metadata": {},
   "source": [
    "# Macaque A/B compartments"
   ]
  },
  {
   "cell_type": "markdown",
   "id": "75bdfe02-4df6-4615-b623-7320b956adf7",
   "metadata": {},
   "source": [
    "## Functions for parsing compartment data and for statistics"
   ]
  },
  {
   "cell_type": "code",
   "execution_count": null,
   "id": "cc5eb652-c8c0-4d6e-b41d-95dc9c3ac68b",
   "metadata": {},
   "outputs": [],
   "source": [
    "def plot_intervals(query=None, annot=None, **kwargs):\n",
    "\n",
    "    import matplotlib.pyplot as plt\n",
    "\n",
    "    vlines = kwargs.get('vlines', [])\n",
    "    if 'vlines' in kwargs: del kwargs['vlines']\n",
    "    figsize = kwargs.get('figsize', (8, 1.5*len(kwargs)-1))\n",
    "    if 'figsize' in kwargs: del kwargs['figsize']\n",
    "    scale_col = kwargs.get('scale', 1)\n",
    "    if 'scale' in kwargs: del kwargs['scale']\n",
    "\n",
    "    tups = list(kwargs.items())\n",
    "    tups = reversed(tups)\n",
    "\n",
    "    df_list = []\n",
    "    labels = []\n",
    "    for label, df in tups:\n",
    "        labels.append(label)\n",
    "        df['label'] = np.repeat(label, df.index.size)\n",
    "        df_list.append(df)\n",
    "    bigdf = pd.concat(df_list)\n",
    "\n",
    "    bigdf['chrom'] = pd.Categorical(bigdf['chrom'], bigdf['chrom'].unique())\n",
    "    bigdf['label'] = pd.Categorical(bigdf['label'], bigdf['label'].unique())\n",
    "\n",
    "    gr = bigdf.groupby('chrom', observed=False)\n",
    "\n",
    "    fig, axes = plt.subplots(gr.ngroups, 1, figsize=figsize, \n",
    "                            sharey=True\n",
    "                            #  sharex=True\n",
    "                             )\n",
    "    if type(axes) is not np.ndarray:\n",
    "        # in case there is only one axis so it not returned as a list\n",
    "        axes = [axes]\n",
    "    \n",
    "    for i, chrom in enumerate(gr.groups):\n",
    "        _df = gr.get_group(chrom)\n",
    "        _gr = _df.groupby('label', observed=False)\n",
    "        for y, label in enumerate(_gr.groups):\n",
    "            try:\n",
    "                df = _gr.get_group(label)\n",
    "            except KeyError:\n",
    "                continue\n",
    "            y = np.repeat(y, df.index.size)\n",
    "            for j in range(len(df.start)):\n",
    "                # axes[i].hlines(y, df.start.tolist(), df.end.tolist(), alpha=df[alpha_col], lw=10, colors=f'C{y[0]}', capstyle='butt')\n",
    "                axes[i].hlines(y, df.start.iloc[j], df.end.iloc[j], lw=10*df[scale_col].iloc[j], colors=f'C{y[0]}', capstyle='butt')\n",
    "            delta = len(labels)/10\n",
    "\n",
    "        axes[i].spines['top'].set_visible(False)\n",
    "        axes[i].spines['left'].set_visible(False)\n",
    "        axes[i].spines['right'].set_visible(False)\n",
    "\n",
    "        axes[i].set_yticks(list(range(len(labels))), labels)\n",
    "        axes[i].tick_params(axis='y', which='both', left=False)\n",
    "        axes[i].set_ylim(-1, len(labels)-0.7)\n",
    "        # axes[i].set_xlim(df.start.min()-delta, df.end.max()+delta)\n",
    "        if i != gr.ngroups-1:\n",
    "            axes[i].tick_params(axis='x', which='both', bottom=False)\n",
    "\n",
    "        axes[i].set_title(chrom, loc='left', fontsize=10)\n",
    "\n",
    "    for y, ax in enumerate(axes):\n",
    "        y = np.repeat(y, len(vlines))\n",
    "        axes[i].vlines(vlines, *ax.get_ylim(), lw=0.1, colors='black', zorder=0)\n",
    "    \n",
    "    plt.tight_layout()\n",
    "    return axes\n",
    "\n",
    "def stairs(df, start='start', end='end', pos='pos', endtrim=0):\n",
    "    \"Turn a df with start, end into one with pos to plot as stairs\"\n",
    "    df1 = df.copy(deep=True)\n",
    "    df2 = df.copy(deep=True)\n",
    "    df1[pos] = df1[start]\n",
    "    df2[pos] = df2[end] - endtrim\n",
    "    return pd.concat([df1, df2]).sort_values([start, end])\n",
    "    \n",
    "def parse_compartment_data(file_name):\n",
    "    e1_100kb = pd.read_csv(file_name)\n",
    "    e1_100kb['start'] = [i*100_000 for i in range(e1_100kb.index.size)]\n",
    "    e1_100kb['end'] = e1_100kb.start + 100_000\n",
    "    e1_100kb['sign'] = np.sign(e1_100kb.e1)\n",
    "    e1_100kb['segment_id'] = ((e1_100kb.sign.shift() != e1_100kb.sign)).cumsum()\n",
    "    \n",
    "    comp = e1_100kb.groupby('segment_id', as_index=False).agg(dict(\n",
    "         e1=['mean', 'sum'], \n",
    "         start='min', \n",
    "         end='max', \n",
    "         segment_id='mean', \n",
    "         sign='mean'\n",
    "    ))\n",
    "    comp.columns = ['_'.join(col).strip() for col in comp.columns.values]\n",
    "    comp = comp.rename(\n",
    "        columns={'start_min':'start',\n",
    "                 'end_max':'end', \n",
    "                 'segment_id_mean':'segment_id', \n",
    "                 'sign_mean':'sign'}\n",
    "    )\n",
    "    comp['comp'] = ['A' if x > 0 else 'B' for x in comp.sign]\n",
    "    comp = comp.reset_index()\n",
    "    comp['chrom'] = 'chrX'\n",
    "    \n",
    "    _comp = comp.copy()\n",
    "    for i in range(1, _comp.index.size-1):\n",
    "        if np.isnan(_comp.loc[i-1, 'e1_mean']):\n",
    "            _comp.loc[i, 'start'] = np.nan\n",
    "        if np.isnan(_comp.loc[i+1, 'e1_mean']):\n",
    "            _comp.loc[i, 'end'] = np.nan\n",
    "    _comp = _comp.loc[~_comp.e1_mean.isnull(), :]\n",
    "    _comp = _comp.reset_index()\n",
    "    compartment_edges = pd.concat([_comp.start, _comp.end]).sort_values().unique()\n",
    "    \n",
    "    compartments = comp.loc[~comp.e1_mean.isnull()].copy()\n",
    "    compartments['start'] = compartments.start.astype(int)\n",
    "    compartments['end'] = compartments.end.astype(int)\n",
    "\n",
    "    return compartments, compartment_edges\n",
    "\n",
    "def edge_segments(compartment_edges, flank):\n",
    "    compartment_edge_segm = pd.DataFrame(np.column_stack((compartment_edges, compartment_edges+flank)), columns=['start', 'end'])\n",
    "    compartment_edge_segm['chrom'] = 'chrX'\n",
    "    return compartment_edge_segm\n",
    "\n",
    "chrom_sizes = {\n",
    "    'chr1': 223616942, 'chr2': 196197964, 'chr5': 187317192, 'chr3': 185288947,\n",
    "    'chr6': 179085566, 'chr4': 169963040, 'chr7': 169868564, 'chrX': 153388924,\n",
    "    'chr8': 145679320, 'chr9': 134124166, 'chr11': 133066086, 'chr12': 130043856,\n",
    "    'chr14': 128056306, 'chr15': 113283604, 'chr13': 108737130, 'chr10': 99517758,\n",
    "    'chr17': 95433459, 'chr16': 79627064, 'chr20': 77137495, 'chr18': 74474043,\n",
    "    'chr19': 58315233, 'chrY': 11753682,\n",
    "}\n",
    "\n",
    "@bootstrap(chrom_sizes)\n",
    "def proximity_test(q, a):\n",
    "    return proximity_stat(q, a)\n",
    "\n",
    "\n",
    "@bootstrap(chrom_sizes)\n",
    "def jaccard_test(q, a):\n",
    "    return jaccard_stat(q, a)\n",
    "\n",
    "\n",
    "def overlaps(df1, df2):\n",
    "    \"\"\"\n",
    "    Establishes whether each query segment overlaps at least one \n",
    "    annotation segment. Returns a boolean array with same length \n",
    "    as df1.index.\n",
    "    \"\"\"\n",
    "    overlapping = []\n",
    "    for i, (s1, e1) in enumerate(zip(df1.start, df1.end)):\n",
    "        overlaps = False\n",
    "        for s2, e2 in zip(df2.start, df2.end):\n",
    "            if e1 > s2 and e2 > s1:\n",
    "                overlaps = True\n",
    "                break\n",
    "        overlapping.append(overlaps)\n",
    "    return np.array(overlapping)\n",
    "\n",
    "\n",
    "def svedig_tabel(orig_df, index, columns, values, cmap='Reds'):\n",
    "    df = (orig_df\n",
    "     .assign(log10p=np.log10(all_tests.p))\n",
    "     .loc[(all_tests.p < 0.05)]\n",
    "     .pivot(index=index, columns=columns, values=values)\n",
    "    )\n",
    "    df = df.rename(columns = {x:x.replace('_', '<br>') for x in df.columns.tolist()})\n",
    "    df = (df.style\n",
    "     .background_gradient(subset=df.columns, axis=None, cmap=cmap, vmin=0)\n",
    "     .map(lambda x: 'color: transparent; background-color: transparent' if np.isnan(x) else '')\n",
    "     .format('{:.3f}')\n",
    "     .set_table_styles(\n",
    "                {c: [{'selector': '', \n",
    "                      'props': [('min-width', '100px')],\n",
    "                     }] for c in df.columns}, overwrite=False\n",
    "     )\n",
    "    )\n",
    "    return df\n"
   ]
  },
  {
   "cell_type": "markdown",
   "id": "892a9d80-589b-4baf-a618-a76c66bd5532",
   "metadata": {},
   "source": [
    "## Annotation mapped to rheMac10"
   ]
  },
  {
   "cell_type": "code",
   "execution_count": null,
   "id": "8b2e97a7-8726-44ca-93ae-d7d0cd114d78",
   "metadata": {},
   "outputs": [],
   "source": [
    "ech90_human_Mmul_10 = pd.read_csv('../data/ech90_human_Mmul_10.csv')\n",
    "\n",
    "flank = 1\n",
    "high_hama_rhemac10 = pd.read_csv('../data/lift/rheMac10/high_hama_rhemac10.bed', sep='\\t', \n",
    "            header=None, names=['label', 'chrom', 'start', 'end'])\n",
    "\n",
    "hama_edges = np.concatenate((high_hama_rhemac10.start, high_hama_rhemac10.end))\n",
    "hama_edge_1bp = pd.DataFrame(np.column_stack((hama_edges, hama_edges+flank)), columns=['start', 'end'])\n",
    "hama_edge_1bp.start = np.maximum(hama_edge_1bp.start, 0)\n",
    "hama_edge_1bp.end = np.minimum(hama_edge_1bp.end, chrom_sizes['chrX']) # rheMac10 chrX length\n",
    "hama_edge_1bp['chrom'] = 'chrX'\n",
    "hama_edge_1bp = hama_edge_1bp.sort_values(by=['start', 'end'])\n",
    "\n",
    "high_olive_rhemac10 = pd.read_csv('../data/lift/rheMac10/high_olive_rhemac10.bed', sep='\\t', \n",
    "            header=None, names=['label', 'chrom', 'start', 'end'])\n",
    "olive_edges = np.concatenate((high_olive_rhemac10.start, high_olive_rhemac10.end))\n",
    "olive_edge_1bp = pd.DataFrame(np.column_stack((olive_edges, olive_edges+flank)), columns=['start', 'end'])\n",
    "olive_edge_1bp.start = np.maximum(olive_edge_1bp.start, 0)\n",
    "olive_edge_1bp.end = np.minimum(olive_edge_1bp.end, chrom_sizes['chrX']) # rheMac10 chrX length\n",
    "olive_edge_1bp['chrom'] = 'chrX'\n",
    "olive_edge_1bp = olive_edge_1bp.sort_values(by=['start', 'end'])"
   ]
  },
  {
   "cell_type": "markdown",
   "id": "702de071-4d41-4c48-a8d6-ed1c113e4b37",
   "metadata": {},
   "source": [
    "## Tests"
   ]
  },
  {
   "cell_type": "code",
   "execution_count": null,
   "id": "29ab02b7-ec63-4e59-850d-be11a19569ab",
   "metadata": {},
   "outputs": [],
   "source": [
    "if False:\n",
    "    records = []\n",
    "    for tissue in ['fibroblast', 'pachytene_spermatocyte', 'round_spermatid', 'sperm', 'spermatogonia']:\n",
    "        for pc in ['arms', '10Mb']:\n",
    "            file_name = f\"../data/rec_compartments/{tissue}_e1_100kb_{pc}.csv\"\n",
    "    \n",
    "            # get compartment data\n",
    "            compartments, compartment_edges = parse_compartment_data(file_name)\n",
    "            compartment_edge_segments = edge_segments(compartment_edges, flank=200_000)\n",
    "            compartment_edge_1bp = edge_segments(compartment_edges, flank=1)\n",
    "    \n",
    "            # ech overlap to compartment edges\n",
    "            query = ech90_human_Mmul_10\n",
    "            annot = compartment_edge_1bp\n",
    "            stat, p = jaccard_test(query, annot)\n",
    "            records.append((tissue, pc, 'ECH90', 'comp_edge_1bp', 'jaccard', stat, p))\n",
    "    \n",
    "            # hama edge proximity to compartment edges\n",
    "            query = hama_edge_1bp\n",
    "            annot = compartment_edge_1bp\n",
    "            stat, p = proximity_test(query.loc[~overlaps(query, annot)], annot)\n",
    "            records.append((tissue, pc, 'hama_edge_1bp', 'comp_edge_1bp', 'proximity', stat, p))\n",
    "            \n",
    "            # olive edge proximity to compartment edges\n",
    "            query = olive_edge_1bp\n",
    "            annot = compartment_edge_1bp\n",
    "            stat, p = proximity_test(query.loc[~overlaps(query, annot)], annot)\n",
    "            records.append((tissue, pc, 'olive_edge_1bp', 'comp_edge_1bp', 'proximity', stat, p))\n",
    "    \n",
    "            # olive+hama edge proximity to compartment edges\n",
    "            query = pd.concat([olive_edge_1bp, olive_edge_1bp]).sort_values(['start', 'end'])\n",
    "            annot = compartment_edge_1bp\n",
    "            stat, p = proximity_test(query.loc[~overlaps(query, annot)], annot)\n",
    "            records.append((tissue, pc, 'olivehama_edge_1bp', 'comp_edge_1bp', 'proximity', stat, p))\n",
    "    \n",
    "    all_tests = pd.DataFrame().from_records(records, \n",
    "                                columns=['tissue', 'pc_scale', 'query',\n",
    "                                         'annot', 'test', 'value', 'p'])\n",
    "    all_tests['-log10p'] = -np.log10(all_tests.p) \n",
    "    all_tests.to_csv('all_tests.csv')\n",
    "else:\n",
    "    all_tests = pd.read_csv('../results/all_tests.csv')"
   ]
  },
  {
   "cell_type": "code",
   "execution_count": null,
   "id": "fa349211-76e6-4bf9-8be1-57851a843d57",
   "metadata": {},
   "outputs": [],
   "source": [
    "(all_tests.style\n",
    "     .background_gradient(subset='-log10p', cmap='Reds', vmin=0)\n",
    "     .format('{:.3f}', subset='-log10p')\n",
    "     .map(func=lambda x: 'color: transparent; background-color: transparent' if x < 0.05 else '', subset='-log10p')\n",
    ")"
   ]
  },
  {
   "cell_type": "markdown",
   "id": "2c404fde-c028-40da-af1a-a65cfbc5b7a2",
   "metadata": {},
   "source": [
    "## Significant p-values "
   ]
  },
  {
   "cell_type": "code",
   "execution_count": null,
   "id": "a5e477e2-ce5d-4c57-a14a-a48f3770250c",
   "metadata": {},
   "outputs": [],
   "source": [
    "all_tests['tissue'] = pd.Categorical(all_tests.tissue, \n",
    "                                     categories=['fibroblast', 'spermatogonia', \n",
    "                                     'pachytene_spermatocyte', 'round_spermatid', 'sperm'])"
   ]
  },
  {
   "cell_type": "code",
   "execution_count": null,
   "id": "59812566-ce0e-4abb-afbb-8ba5ee2c3ca2",
   "metadata": {},
   "outputs": [],
   "source": [
    "svedig = svedig_tabel(all_tests, index=['pc_scale', 'query', 'test' ], columns=[\"tissue\"], values=\"p\", cmap='Reds_r')\n",
    "svedig"
   ]
  },
  {
   "cell_type": "code",
   "execution_count": null,
   "id": "48b5a72c-40b0-4ec7-9b28-27d46372d762",
   "metadata": {},
   "outputs": [],
   "source": [
    "# from IPython.display import Markdown, display\n",
    "# df = (all_tests\n",
    "#  .assign(log10p=np.log10(all_tests.p))\n",
    "#  .loc[(all_tests.p < 0.05)]\n",
    "#  .pivot(index=['pc_scale', 'query', 'test' ], columns=[\"tissue\"], values=\"p\")\n",
    "# ).reset_index().fillna('-')\n",
    "\n",
    "# # df.columns.name = None\n",
    "# # df = df.reset_index().fillna('')\n",
    "# # df = df.rename(columns={'pc_scale': 'scale'})\n",
    "# def embed_table(df):\n",
    "#     display(Markdown(df.to_markdown(index=False)))\n",
    "    \n",
    "# df << nice()"
   ]
  },
  {
   "cell_type": "code",
   "execution_count": null,
   "id": "1e795af3-a2bf-437e-9174-a9853194d136",
   "metadata": {},
   "outputs": [],
   "source": [
    "df = (all_tests\n",
    " .assign(log10p=np.log10(all_tests.p))\n",
    " .loc[(all_tests.p < 0.05)]\n",
    " .pivot(index=['pc_scale', 'query', 'test' ], columns=[\"tissue\"], values=\"p\")\n",
    ")\n",
    "df.columns.name = None\n",
    "df = df.reset_index().fillna('')\n",
    "df = df.rename(columns={'pc_scale': 'scale'})\n",
    "df.style.hide()\n",
    "\n",
    "\n",
    "\n",
    "#df.columns = [' '.join(col).strip() for col in df.columns.values]\n",
    "\n",
    "# #.style.hide()\n",
    "# import textwrap\n",
    "# df = df.rename(columns = {x:x.replace('_', ' ') for x in df.columns.tolist()})\n",
    "\n",
    "# df.columns = df.columns.str.wrap(12, break_long_words=False)\n",
    "# df.columns = df.columns.str.replace('\\n', '<br>')\n",
    "\n",
    "#df.columns = [textwrap.wrap(x, 10, break_long_words=False) for x in df.columns]\n"
   ]
  },
  {
   "cell_type": "code",
   "execution_count": null,
   "id": "95931404-d856-4257-acf9-b08c8660fe5b",
   "metadata": {},
   "outputs": [],
   "source": [
    "#| label: tbl-ABborder-tests\n",
    "\n",
    "df.loc[df.scale == '10Mb'].style.hide()"
   ]
  },
  {
   "cell_type": "markdown",
   "id": "3ac07c70-250a-4a13-ae6d-b11a1db818ba",
   "metadata": {},
   "source": [
    "# Pure segments in baboon cooridnates"
   ]
  },
  {
   "cell_type": "code",
   "execution_count": null,
   "id": "c377bf0c-619d-4fb0-b0e1-18b84bd35e7c",
   "metadata": {},
   "outputs": [],
   "source": [
    "from pandas.api.types import is_object_dtype\n",
    "from math import floor, log10\n",
    "\n",
    "class style():\n",
    "\n",
    "    def __init__(self, subset=None, cmap='Reds', vmin=None, vmax=None, axis=0, **kwargs):\n",
    "        self.subset = subset\n",
    "        self.cmap = cmap\n",
    "        self.vmin = vmin\n",
    "        self.vmax = vmax\n",
    "        self.kwargs = kwargs\n",
    "        self.axis = axis\n",
    "\n",
    "    def __rlshift__(self, df):\n",
    "        \"Left align columns of params frame: df << nice()\"\n",
    "\n",
    "        def make_pretty(styler):\n",
    "\n",
    "            def commas(v):\n",
    "                if type(v) is int:\n",
    "                    s = str(v)[::-1]\n",
    "                    return ','.join([s[i:i+3] for i in range(0, len(s), 3)])[::-1]\n",
    "                elif type(v) is float:\n",
    "                    signif_digits = 3\n",
    "                    s = signif_digits - int(floor(log10(abs(v))))\n",
    "                    return round(v, s)\n",
    "                else:\n",
    "                    return v                    \n",
    "\n",
    "            return styler.format(commas)\n",
    "\n",
    "\n",
    "        def left_align(styler):\n",
    "            if self.subset is None:\n",
    "                subset = df.columns           \n",
    "            elif type(self.subset) is str:\n",
    "                subset = [str]\n",
    "            else:\n",
    "                subset = self.subset\n",
    "            \n",
    "            return styler.set_table_styles(\n",
    "                {c: [{'selector': '', 'props': [('text-align', 'left')]}] \n",
    "                     for c in df.columns if is_object_dtype(df[c]) and c != 'strand'},\n",
    "                overwrite=False\n",
    "            )\n",
    "\n",
    "        def highlight(styler):\n",
    "            return (styler\n",
    "                  .background_gradient(subset=self.subset, cmap=self.cmap, axis=self.axis, vmin=self.vmin, vmax=self.vmax)\n",
    "                  .map(func=lambda x: 'color: transparent; background-color: transparent' if x < 0.05 else '', \n",
    "                       subset=self.subset)\n",
    "                 )\n",
    "            \n",
    "        s = df.style\n",
    "        s = s.pipe(make_pretty)\n",
    "        s = s.pipe(highlight)\n",
    "        s = s.pipe(left_align)\n",
    "\n",
    "        s = s.set_table_styles(\n",
    "                {c: [{'selector': '', 'props': [('font-variant-numeric', 'tabular-nums')]}] \n",
    "                     for c in df.columns},\n",
    "                overwrite=False\n",
    "        )\n",
    "\n",
    "        display(s)\n",
    "        \n",
    "\n",
    "#value_matrix_classification.style.apply(highlight_cells)\n",
    "        \n",
    "test = all_tests.iloc[:5].copy()\n",
    "test['number'] = [x * 1000000 for x in range(4)] + [1111111]\n",
    "        \n",
    "test << style(subset='-log10p', cmap='Blues')\n",
    "# test << nice(cmap='Blues', axis=None)\n",
    "\n",
    "#test << nice(subset='test', cmap='Blues')"
   ]
  },
  {
   "cell_type": "code",
   "execution_count": null,
   "id": "be7bc666",
   "metadata": {},
   "outputs": [],
   "source": [
    "#| label: tbl-pure-ancestry-border-tests\n",
    "\n",
    "test = all_tests.iloc[:5].copy()\n",
    "test['number'] = [x * 1000000 for x in range(4)] + [1111111]    \n",
    "test"
   ]
  },
  {
   "cell_type": "code",
   "execution_count": null,
   "id": "01a16cd5-fa6f-4fe4-ac7e-d4b1ad47e1d7",
   "metadata": {},
   "outputs": [],
   "source": [
    "\n",
    "class embedable():\n",
    "\n",
    "    def __init__(self, signif_digits=3, int_commas=True):\n",
    "\n",
    "        self.signif_digits = signif_digits\n",
    "        self.int_commas = int_commas              \n",
    "\n",
    "    def __rlshift__(self, df):\n",
    "        \"Left align columns of params frame: df << nice()\"\n",
    "\n",
    "        def signif_dig(v):\n",
    "            if not v:\n",
    "                return v\n",
    "            s = self.signif_digits - int(floor(log10(abs(v))))\n",
    "            return round(v, s)\n",
    "\n",
    "        def commas(v):\n",
    "            s = str(v)[::-1]\n",
    "            return ','.join([s[i:i+3] for i in range(0, len(s), 3)])[::-1]            \n",
    "\n",
    "        self.df = df.copy()  \n",
    "        colalign = ['left' if t == 'object' else 'right' for t in df.dtypes ]\n",
    "\n",
    "        for i, (c, t) in enumerate(zip(df.columns, df.dtypes)):\n",
    "            if t == 'float64' and self.signif_digits is not None:\n",
    "                self.df.loc[:, c] = self.df.loc[:, c].apply(signif_dig)\n",
    "            if t == 'int64' and self.int_commas:\n",
    "                self.df.loc[:, c] = self.df.loc[:, c].apply(commas)\n",
    "\n",
    "                width = max(self.df[c].values, key=len)\n",
    "                colalign[i] = 'right'\n",
    "\n",
    "        with pd.option_context('display.max_rows', None, 'display.max_columns', None):\n",
    "            display(Markdown(self.df.to_markdown(index=False, colalign=colalign)))\n",
    "        \n",
    "\n",
    "df.head(10) << embedable()"
   ]
  },
  {
   "cell_type": "markdown",
   "id": "3cacce28-ba2a-4a20-a03b-6555dabfd5a2",
   "metadata": {},
   "source": [
    "## Read in baboon LAI"
   ]
  },
  {
   "cell_type": "code",
   "execution_count": null,
   "id": "98587b28-aeee-4cdd-9106-e23e82d2397e",
   "metadata": {},
   "outputs": [],
   "source": [
    "df = pd.read_hdf('../data/mean_window_df_eth.h5')\n",
    "meta_data_samples = pd.read_csv(\"../data/Papio_metadata_with_clustering.txt\", sep =\" \")\n",
    "gog_olives = meta_data_samples.loc[meta_data_samples.Origin == \"Gog Woreda, Gambella region, Ethiopia\"].PGDP_ID\n",
    "chrX_lai_eth = df.loc[df.individual.isin(gog_olives) & (df.chrom == 'all_chrX')].groupby([\"chrom\", \"individual\", \"start\", \"end\"]).mean().reset_index()\n",
    "chrX_lai_eth.head()"
   ]
  },
  {
   "cell_type": "code",
   "execution_count": null,
   "id": "70433f55-7125-4879-b038-527eb4f1f04c",
   "metadata": {},
   "outputs": [],
   "source": [
    "win_means = chrX_lai_eth.groupby(['start', 'end']).north_sum.mean().reset_index()\n",
    "win_means.head()"
   ]
  },
  {
   "cell_type": "code",
   "execution_count": null,
   "id": "e7b73dd5-4352-439b-b935-e4620c32a691",
   "metadata": {},
   "outputs": [],
   "source": [
    "#| label: fig-gog-ancestry-prop\n",
    "\n",
    "plot_df = stairs(win_means)\n",
    "plt.figure(figsize=(12, 4))\n",
    "plt.fill_between(plot_df.pos, plot_df.north_sum)\n",
    "plt.axhline(y=95000)"
   ]
  },
  {
   "cell_type": "code",
   "execution_count": null,
   "id": "7d39c43b-3379-46d7-953e-01e938057e14",
   "metadata": {},
   "outputs": [],
   "source": [
    "win_means.head()"
   ]
  },
  {
   "cell_type": "code",
   "execution_count": null,
   "id": "e03fd36e-9c62-4998-9331-c5ec876a7622",
   "metadata": {},
   "outputs": [],
   "source": [
    "win_means['pure'] = (win_means.north_sum == 0) | (win_means.north_sum >= 95000)\n",
    "\n",
    "win_means['segment_id'] = (win_means.pure.shift() != win_means.pure).cumsum()\n",
    "\n",
    "pure = win_means.groupby('segment_id', as_index=False).agg(dict(\n",
    "     start='min', \n",
    "     end='max', \n",
    "     north_sum='mean', \n",
    "     pure='mean'\n",
    "))\n",
    "\n",
    "pure = pure.loc[pure.pure == 1, :]\n",
    "pure['species'] = ['hama' if x >= 95000 else 'olive' for x in pure.north_sum]\n",
    "pure['chrom'] = 'chrX'\n",
    "pure['start'] = pure.start.astype(int)\n",
    "pure['end'] = pure.end.astype(int)\n",
    "pure['north_sum'] = pure.north_sum.astype(int)\n",
    "olive_pure_segments = pure.loc[pure.species == 'olive', ['chrom', 'start', 'end', 'north_sum']]\n",
    "hama_pure_segments = pure.loc[pure.species == 'hama', ['chrom', 'start', 'end', 'north_sum']]"
   ]
  },
  {
   "cell_type": "code",
   "execution_count": null,
   "id": "69ad30fa-8dba-4247-9d92-c4e3be1c5915",
   "metadata": {},
   "outputs": [],
   "source": [
    "hama_pure_segments.head(3)"
   ]
  },
  {
   "cell_type": "code",
   "execution_count": null,
   "id": "1a1744a5-adff-4e2b-add1-654c0bad6510",
   "metadata": {},
   "outputs": [],
   "source": [
    "olive_pure_segments.head(3)"
   ]
  },
  {
   "cell_type": "code",
   "execution_count": null,
   "id": "ce39df1b-d7a1-4cdb-b2f0-be7450eebe3f",
   "metadata": {},
   "outputs": [],
   "source": [
    "#| label: fig-gog-pure-regions\n",
    "\n",
    "edges = pd.concat(\n",
    "    [olive_pure_segments.start, olive_pure_segments.end, hama_pure_segments.start, hama_pure_segments.end, \n",
    "    ]).sort_values().unique()\n",
    "\n",
    "axes = plot_intervals(**{\n",
    "    'Pure Olive':olive_pure_segments.assign(scale=np.repeat(1, len(olive_pure_segments.north_sum))),\n",
    "    '95% Hamadryas':hama_pure_segments.assign(scale=(hama_pure_segments.north_sum-95000)/5000),\n",
    "    'vlines':edges,\n",
    "    'figsize':(12, 2),\n",
    "    'scale': 'scale'\n",
    "    }\n",
    ")"
   ]
  },
  {
   "cell_type": "code",
   "execution_count": null,
   "id": "1324b3ac-84f8-4e08-b5d1-1e0d1ff71857",
   "metadata": {},
   "outputs": [],
   "source": [
    "lst = []\n",
    "for tup in hama_pure_segments.itertuples():\n",
    "    lst.extend([x[0] for x in gi.gene_coords_region(tup.chrom, tup.start, tup.end, assembly='papAnu4')])\n",
    "hama_genes = glist(sorted(set(lst)))\n",
    "hama_genes"
   ]
  },
  {
   "cell_type": "code",
   "execution_count": null,
   "id": "c297e89b-6505-4b1f-b8f6-efd5bab54d07",
   "metadata": {},
   "outputs": [],
   "source": [
    "# import requests, sys\n",
    "\n",
    "# def lift(chrom, start, end, lift_from, lift_to):\n",
    "#     server = \"https://rest.ensembl.org\"\n",
    "#     ext = f\"/map/human/{lift_from}/{chrom.replace('chr', '')}:{start}..{end}:1/{lift_to}?\"\n",
    "     \n",
    "#     r = requests.get(server+ext, headers={ \"Content-Type\" : \"application/json\"})\n",
    "     \n",
    "#     if not r.ok:\n",
    "#       r.raise_for_status()\n",
    "#       sys.exit()\n",
    "     \n",
    "#     decoded = r.json()\n",
    "#     return decoded\n",
    "\n",
    "# lift('chrX', 1000000, 2000000, lift_from='GRCh37', lift_to='GRCh38')"
   ]
  },
  {
   "cell_type": "code",
   "execution_count": null,
   "id": "8f6ac00a-6127-4602-acea-c94410452430",
   "metadata": {},
   "outputs": [],
   "source": [
    "# import geneinfo.information as gi\n",
    "\n",
    "# g = gplt.ChromIdeogram('chrX',\n",
    "#                        # assembly='hg19')\n",
    "#                     species='Macaca mulatta')\n",
    "#                     # species='Homo sapiens')\n",
    "# g.draw_chromosomes()\n",
    "\n",
    "# coords = [(tup[0], (tup[1]+tup[2])/2, name) for name, tup in gi.gene_coord(cDEG_genes, species='macaca_mulatta').items()]\n",
    "# g.add_labels(coords)\n",
    "\n",
    "# coords = [(tup[0], (tup[1]+tup[2])/2, name) for name, tup in gi.gene_coord(hama_genes, species='macaca_mulatta').items()]\n",
    "# g.add_labels(coords, color='tab:blue')\n",
    "\n",
    "\n",
    "# g.add_segments([(x.chrom, x.start, x.end) for x in high_hama_rhemac10.itertuples()])\n",
    "# #g.add_segments([(x.chrom, x.start, x.end) for x in hama_pure_segments.itertuples()], color='red', alpha=0.5)"
   ]
  },
  {
   "cell_type": "code",
   "execution_count": null,
   "id": "af8cfb3e-ab64-4cb6-8671-d8293275a973",
   "metadata": {},
   "outputs": [],
   "source": [
    "sojern_genes = glist([\n",
    "    'AKAP4', 'ALG13', 'ATP7A', 'ATRX', 'BRCC3', 'CCNB3', 'CENPVL3', 'CLCN5', 'CLCN5', \n",
    "    'CMC4', 'COX7B', 'CYBB', 'DKC1', 'DYNLT3', 'ENOX2', 'F8', 'FAM120C', 'FUNDC2', 'H2AFB3', \n",
    "    'LANCL3', 'LAS1L', 'LOC114675151', 'LOC114675176', 'LOC114675180', 'LOC114675218', \n",
    "    'LOC114675231', 'LOC114675302', 'LOC695959', 'LOC696657', 'LOC703257', 'LOC706958', \n",
    "    'MAGT1', 'MIR188', 'MIR362', 'MIR500A', 'MIR500B', 'MIR501', 'MIR502', 'MIR532', 'MIR660',\n",
    "    'MIR7206', 'MPP1', 'MSN', 'MTCP1', 'PAGE4', 'RAP2C', 'SH3KBP1', 'SMIM9', 'TRPC5', 'USP27X', \n",
    "    'WNK3', 'XK', 'ZC3H12B' \n",
    "])\n",
    "sojern_genes"
   ]
  },
  {
   "cell_type": "code",
   "execution_count": null,
   "id": "f7f0e0d0-5fa8-4b53-a795-9d9147f5afed",
   "metadata": {},
   "outputs": [],
   "source": [
    "test_lists = [\n",
    " # 'xi_escape',\n",
    " # 'meritxell_spermatid_expr',\n",
    "    \n",
    " # 'expr_mod_xi_copynr_fibrobl',\n",
    "     # 'accel_reg_simiiformes_br',\n",
    " # 'my_primate_codeml',\n",
    "\n",
    "# 'ari_nonPUR',\n",
    "    'cDEG',\n",
    "    'nDEG',\n",
    "    'xi_any_evidence',\n",
    " #     'mult_copy',\n",
    "    \n",
    "\n",
    "]\n",
    "\n",
    "\n",
    "gene_list = []\n",
    "for list_name in test_lists:\n",
    "    gene_list.extend(sheet.get(list_name))\n",
    "df = pd.DataFrame(dict(genes=sorted(set(gene_list))))\n",
    "for list_name in test_lists:\n",
    "    df[list_name] = df.genes.isin(sheet.get(list_name))\n",
    "\n",
    "# df['sojern_genes'] = df.genes.isin(sojern_genes)\n",
    "df['hama_genes'] = df.genes.isin(hama_genes)\n",
    "\n",
    "# df = df.set_index(test_lists + ['sojern_genes', 'hama_genes'])\n",
    "df = df.set_index(test_lists + ['hama_genes'])"
   ]
  },
  {
   "cell_type": "code",
   "execution_count": null,
   "id": "e3232bbb-c9c2-4ffd-9c06-2b9e416a68fb",
   "metadata": {},
   "outputs": [],
   "source": [
    "# import warnings\n",
    "# warnings.simplefilter(action='ignore', category=FutureWarning)\n",
    "\n",
    "# from upsetplot import UpSet\n",
    "# ax_dict = UpSet(df.genes, show_counts=True, subset_size=\"count\").plot()"
   ]
  },
  {
   "cell_type": "code",
   "execution_count": null,
   "id": "c69b147e-9086-4da0-a257-1a8b9b63193b",
   "metadata": {},
   "outputs": [],
   "source": [
    "hama_genes.fisher(sheet.get('cDEG'), sheet.get('all_npx'))"
   ]
  },
  {
   "cell_type": "markdown",
   "id": "9c0c4f7c-b578-4c6e-863c-338c0b6017fc",
   "metadata": {},
   "source": [
    "## Try to load the matrices and look at them"
   ]
  },
  {
   "cell_type": "code",
   "execution_count": null,
   "id": "9904b95a-ec25-4abb-88c9-8bbe1ae752ff",
   "metadata": {},
   "outputs": [],
   "source": [
    "# import standard python libraries\n",
    "import numpy as np\n",
    "#import matplotlib.pyplot as plt\n",
    "import pandas as pd\n",
    "import os, subprocess"
   ]
  },
  {
   "cell_type": "code",
   "execution_count": null,
   "id": "e5e913d5-c1aa-4f0d-bee5-aca9ae7b67a5",
   "metadata": {},
   "outputs": [],
   "source": [
    "# Import python package for working with cooler files and tools for analysis\n",
    "import cooler\n",
    "import cooltools.lib.plotting\n",
    "\n",
    "# had to add this to _register_colormaps in /Users/kmt/miniconda3/envs/cooler/lib/python3.10/site-packages/cooltools/lib/plotting.py\n",
    "# from matplotlib.colors import ListedColormap\n",
    "# mpl.colormaps.register(ListedColormap(pal/255), name=name)\n",
    "# mpl.colormaps.register(ListedColormap(pal[::-1]/255), name=name + \"_r\")\n",
    "\n",
    "\n",
    "import cooltools\n",
    "import bioframe\n",
    "import pandas as pd\n",
    "import os.path as op\n",
    "\n",
    "import warnings\n",
    "warnings.simplefilter(action='ignore', category=UserWarning)\n",
    "\n",
    "from matplotlib.colors import LogNorm\n",
    "from mpl_toolkits.axes_grid1 import make_axes_locatable"
   ]
  },
  {
   "cell_type": "code",
   "execution_count": null,
   "id": "343e3905-9a57-45e9-8a6e-98bd05de277c",
   "metadata": {},
   "outputs": [],
   "source": [
    "clr_path = \"../data/cooler/sperm.mcool\"\n",
    "res = 100000\n",
    "clr = cooler.Cooler(f\"{clr_path}::resolutions/{res}\")\n",
    "matrix = clr.matrix(balance=True).fetch('chrX') "
   ]
  },
  {
   "cell_type": "code",
   "execution_count": null,
   "id": "e39ab1ac-f014-4b85-bc1d-1c139b527196",
   "metadata": {},
   "outputs": [],
   "source": [
    "# Make the full view frame\n",
    "view_df = pd.DataFrame({\n",
    "    'chrom': clr.chromnames[-2],\n",
    "    # 'start': [40_000_000],\n",
    "    # 'end': [100_000_000],\n",
    "    # 'start': [40_000_000],\n",
    "    # 'end': [55_000_000],\n",
    "    'start': [0],\n",
    "    'end': clr.chromsizes.values[-2],\n",
    "    'name': clr.chromnames[-2]})"
   ]
  },
  {
   "cell_type": "code",
   "execution_count": null,
   "id": "02e37a55-2a2c-48e5-8669-98ff32169bb9",
   "metadata": {},
   "outputs": [],
   "source": [
    "bins = clr.bins().fetch('chrX')[:]\n",
    "out_name = f'rheMac10_gc_cov_X_res{res//1000}kb.tsv'\n",
    "\n",
    "rheMac10 = bioframe.load_fasta('../data/rheMac10.fa')\n",
    "if not op.exists(out_name):\n",
    "    print('Calculate the fraction of GC basepairs for each bin')\n",
    "    gc_cov = bioframe.frac_gc(bins[['chrom', 'start', 'end']], rheMac10)\n",
    "    gc_cov.to_csv(out_name, index=False,sep='\\t')\n",
    "    print(gc_cov.info())\n",
    "else: \n",
    "    print(\"Already exists, read from file\")\n",
    "    gc_cov = pd.read_csv(out_name, sep='\\t')\n",
    "    print(gc_cov.info())"
   ]
  },
  {
   "cell_type": "code",
   "execution_count": null,
   "id": "2ba1edda-ce0e-400f-9e71-fd4298f338ec",
   "metadata": {},
   "outputs": [],
   "source": [
    "import numpy as np\n",
    "from sklearn.datasets import load_digits\n",
    "from sklearn.model_selection import train_test_split\n",
    "from sklearn.preprocessing import StandardScaler\n",
    "import matplotlib.pyplot as plt\n",
    "import seaborn as sns\n",
    "import pandas as pd\n",
    "%matplotlib inline\n",
    "\n",
    "import umap"
   ]
  },
  {
   "cell_type": "code",
   "execution_count": null,
   "id": "19afc224-af59-4e63-bff5-f8108426a930",
   "metadata": {},
   "outputs": [],
   "source": [
    "import pywt\n",
    "import matplotlib\n",
    "\n",
    "mat = clr.matrix().fetch('chrX')\n",
    "mat = mat[~np.isnan(mat)]\n",
    "mat.shape"
   ]
  },
  {
   "cell_type": "code",
   "execution_count": null,
   "id": "c97a6d81",
   "metadata": {},
   "outputs": [],
   "source": [
    "#| label: fig-AB-macaque\n",
    "\n",
    "import pywt\n",
    "import matplotlib\n",
    "\n",
    "pc = 1\n",
    "\n",
    "# first 3 eigenvectors\n",
    "cis_eigs = cooltools.eigs_cis(clr, gc_cov, view_df=view_df, n_eigs=3)\n",
    "\n",
    "# cis_eigs[0] are eigenvalues\n",
    "# cis_eigs[1] are eigenvectors\n",
    "eigenvector_track = cis_eigs[1][['chrom','start','end',f'E{pc}']]\n",
    "  \n",
    "eigenvector_track_chrX = eigenvector_track.loc[eigenvector_track['chrom'] == 'chrX']\n",
    "nbins = len(eigenvector_track_chrX)\n",
    "eigenvector_track_chrX\n",
    "eX_values = eigenvector_track_chrX[f'E{pc}'].values\n",
    "\n",
    "f, ax = plt.subplots(figsize=(14, 3))\n",
    "s = np.arange(len(eX_values))\n",
    "x = np.dstack((s, s+1)).flatten()\n",
    "y = np.repeat(eX_values, 2)\n",
    "ax.fill_between(x, y, 0, where=(y > 0), ec='none', fc='tab:red')\n",
    "ax.fill_between(x, y, 0, where=(y < 0), ec='none', fc='tab:blue')"
   ]
  },
  {
   "cell_type": "code",
   "execution_count": null,
   "id": "1df4374e-5bdb-4173-b5ef-9314d654f70f",
   "metadata": {},
   "outputs": [],
   "source": [
    "#| label: fig-AB-macaque-with-annot\n",
    "\n",
    "\n",
    "import pywt\n",
    "import matplotlib\n",
    "\n",
    "pc = 1\n",
    "\n",
    "# first 3 eigenvectors\n",
    "cis_eigs = cooltools.eigs_cis(clr, gc_cov, view_df=view_df, n_eigs=3)\n",
    "\n",
    "# cis_eigs[0] are eigenvalues\n",
    "# cis_eigs[1] are eigenvectors\n",
    "eigenvector_track = cis_eigs[1][['chrom','start','end',f'E{pc}']]\n",
    "  \n",
    "eigenvector_track_chrX = eigenvector_track.loc[eigenvector_track['chrom'] == 'chrX']\n",
    "nbins = len(eigenvector_track_chrX)\n",
    "eigenvector_track_chrX\n",
    "eX_values = eigenvector_track_chrX[f'E{pc}'].values\n",
    "\n",
    "f, ax = plt.subplots(figsize=(14, 3))\n",
    "s = np.arange(len(eX_values))\n",
    "x = np.dstack((s, s+1)).flatten()\n",
    "y = np.repeat(eX_values, 2)\n",
    "ax.fill_between(x, y, 0, where=(y > 0), ec='none', fc='tab:red')\n",
    "ax.fill_between(x, y, 0, where=(y < 0), ec='none', fc='tab:blue')\n",
    "\n",
    "# ax.fill_between(range(len(eX_values)), eX_values, 0, where=(eX_values > 0), ec='none', fc='tab:red')\n",
    "# ax.fill_between(range(len(eX_values)), eX_values, 0, where=(eX_values < 0), ec='none', fc='tab:blue')\n",
    "\n",
    "ax.hlines(np.repeat(-0.5, len(high_olive_rhemac10.start/res)), high_olive_rhemac10.start/res, high_olive_rhemac10.end/res, lw=8, colors='tab:green', capstyle='butt')\n",
    "ax.hlines(np.repeat(-0.7, len(high_hama_rhemac10.start/res)), high_hama_rhemac10.start/res, high_hama_rhemac10.end/res, lw=8, colors='tab:blue', capstyle='butt')\n",
    "ax.hlines(np.repeat(-0.9, len(ech90_human_Mmul_10.start/res)), ech90_human_Mmul_10.start/res, ech90_human_Mmul_10.end/res, lw=8, colors='tab:red', capstyle='butt')\n",
    "ax.set_ylabel(f'E{pc}')\n",
    "# ax.set_xticks([]);\n",
    "# ax.set_yticks([]);\n",
    "ax.get_subplotspec()\n",
    "# ax.set_axis_off()\n",
    "\n",
    "\n",
    "# coords = gi.gene_labels(nDEG_genes, assembly='rheMac10')\n",
    "# # coords = [(tup[1]+tup[2])/2 for name, tup in gi.gene_coord(nDEG_genes, species='macaca_mulatta').items()]\n",
    "# for chrom, pos, name in coords:\n",
    "#     ax.vlines(pos/100000,  -1, 1, lw=0.2, color='black')\n",
    "coords = gi.gene_labels(sheet.get('cDEG'), assembly='rheMac10')\n",
    "# coords = [(tup[1]+tup[2])/2 for name, tup in gi.gene_coord(cDEG_genes, assembly='rheMac10').items()]\n",
    "for chrom, pos, name in coords:\n",
    "    ax.vlines(pos/100000,  -1, 1, lw=0.4, color='magenta')\n",
    "\n",
    "\n",
    "\n",
    "plt.tight_layout()\n",
    "\n",
    "sns.despine()"
   ]
  },
  {
   "cell_type": "code",
   "execution_count": null,
   "id": "eb4b2b70-34fb-4b0b-9462-700b3ab59b2a",
   "metadata": {},
   "outputs": [],
   "source": [
    "\n",
    "import pywt\n",
    "import matplotlib\n",
    "from matplotlib.axes import Axes\n",
    "\n",
    "pc = 1\n",
    "\n",
    "# first 3 eigenvectors\n",
    "cis_eigs = cooltools.eigs_cis(clr, gc_cov, view_df=view_df, n_eigs=3)\n",
    "\n",
    "# cis_eigs[0] are eigenvalues\n",
    "# cis_eigs[1] are eigenvectors\n",
    "eigenvector_track = cis_eigs[1][['chrom','start','end',f'E{pc}']]\n",
    "  \n",
    "eigenvector_track_chrX = eigenvector_track.loc[eigenvector_track['chrom'] == 'chrX']\n",
    "nbins = len(eigenvector_track_chrX)\n",
    "eigenvector_track_chrX\n",
    "eX_values = eigenvector_track_chrX[f'E{pc}'].values\n",
    "\n",
    "\n",
    "s = np.arange(len(eX_values))\n",
    "x = np.dstack((s, s+1)).flatten() * 100_000\n",
    "y = np.repeat(eX_values, 2)\n",
    "plot_df = pd.DataFrame(dict(x=x, y=y))\n",
    "plot_df['chrom'] = 'chrX'"
   ]
  },
  {
   "cell_type": "code",
   "execution_count": null,
   "id": "4c94587d-3cc3-467f-b57e-1cddbc3b5820",
   "metadata": {},
   "outputs": [],
   "source": [
    "# import requests, re\n",
    "# from collections import defaultdict\n",
    "\n",
    "# def chrom_sort_key(chrom):\n",
    "#     if isinstance(chrom, (list, tuple)):\n",
    "#         chrom = chrom[0]\n",
    "#     return [int(x) if x.isdigit() else x for x in re.split('(\\d+)', chrom)]\n",
    "\n",
    "\n",
    "# # assembly = 'hg38'\n",
    "# # api_url = f'https://api.genome.ucsc.edu/getData/track?genome={assembly};track=centromeres'\n",
    "# # response = requests.get(api_url)\n",
    "# # if not response.ok:\n",
    "# #     response.raise_for_status()\n",
    "\n",
    "# # data = defaultdict(list)\n",
    "# # for chrom, val in response.json()['centromeres'].items():\n",
    "# #     for d in val:\n",
    "# #         data[d['chrom']].append((d['chromStart'], d['chromEnd']))\n",
    "# # records = []\n",
    "# # for ch, val in data.items():\n",
    "# #     starts, ends = zip(*val)\n",
    "# #     records.append((ch, min(starts), max(ends)))\n",
    "# # df = pd.DataFrame().from_records(records, columns=['chrom', 'start', 'end'])\n",
    "# # df.sort_values('chrom', key=lambda sr: [chrom_sort_key(x) for x in sr]).reset_index(drop=True)\n",
    "\n",
    "# def centromeres(assembly):\n",
    "#     api_url = f'https://api.genome.ucsc.edu/getData/track?genome={assembly};track=centromeres'\n",
    "#     response = requests.get(api_url)\n",
    "#     if not response.ok:\n",
    "#         return response.raise_for_status()\n",
    "\n",
    "#     data = defaultdict(list)\n",
    "#     for chrom, val in response.json()['centromeres'].items():\n",
    "#         for d in val:\n",
    "#             data[d['chrom']].append((d['chromStart'], d['chromEnd']))\n",
    "#     records = []\n",
    "#     for ch, val in data.items():\n",
    "#         starts, ends = zip(*val)\n",
    "#         records.append((ch, min(starts), max(ends)))\n",
    "#     return sorted(records, key=chrom_sort_key)  \n",
    "\n",
    "# centromeres('hg38')"
   ]
  },
  {
   "cell_type": "code",
   "execution_count": null,
   "id": "046356a7-5479-44c4-8ec4-c78f24486673",
   "metadata": {},
   "outputs": [],
   "source": [
    "#| label: fig-gog-pure-reions-cDEG\n",
    "\n",
    "\n",
    "g = gplt.ChromIdeogram('chrX', assembly='papAnu4', \n",
    "                    font_size=3,\n",
    "                       zoom_height_ratio=2, \n",
    "                       zoom_font_size=5, \n",
    "                       zoom_effect_alpha=0.2,\n",
    "#                       ylim=(0, 10),\n",
    "                          zooms=[\n",
    "        (10_000_000, 20_000_000),\n",
    "        (33_000_000, 54_000_000),\n",
    "        (60_000_000, 63_000_000),\n",
    "        (85_000_000, 120_000_000),\n",
    "        (140_000_000, 145_000_000),\n",
    "    ]\n",
    "                      )\n",
    "\n",
    "g.draw_chromosomes(base=2)\n",
    "g.add_segments([(t.chrom, t.start, t.end) for t in olive_pure_segments.itertuples()], \n",
    "               facecolor='tab:green', base=3, height=1, label='Pure olive', alpha=0.7)\n",
    "g.add_segments([(t.chrom, t.start, t.end) for t in hama_pure_segments.itertuples()], \n",
    "               facecolor='tab:orange', base=2, height=1, label='Pure hamadryas', alpha=0.7)\n",
    "\n",
    "\n",
    "# ax.fill_between(x, y, 0, where=(y > 0), ec='none', fc='tab:red')\n",
    "# ax.fill_between(x, y, 0, where=(y < 0), ec='none', fc='tab:blue')\n",
    "\n",
    "# def color(name):\n",
    "#     return 'black' if name in hum_nean_genes else 'black'\n",
    "\n",
    "#gi.gene_coords(['DYNLT3', 'CFAP47'], assembly='papAnu4')\n",
    "\n",
    "coords = gi.gene_labels(sheet.get('cDEG'), assembly='papAnu4')\n",
    "\n",
    "# coords = []\n",
    "# coords.extend(\n",
    "#     [(tup[0], (tup[1]+tup[2])/2, name) for name, tup in gi.gene_coord(cDEG_genes, species='papio_anubis', assembly='papAnu4').items()]\n",
    "# )\n",
    "\n",
    "# #plot_df['y1'] = 1\n",
    "# g.map_method(Axes.fill_between, data=plot_df, x='x', y='y', y2=1, where=(y > 0), ec='none', fc='tab:red', yaxis=(1, 2), label='A compartment')\n",
    "# g.map_method(Axes.fill_between, data=plot_df, x='x', y='y', y2=1, where=(y <= 0), ec='none', fc='tab:blue', yaxis=(1, 2), label='B compartment')\n",
    "\n",
    "#g.map_method(Axes.plot, data=plot_df, x='x', y='y', yaxis=(1, 2), label='A compartment')\n",
    "\n",
    "# ax.fill_between(x, y, 0, where=(y > 0), ec='none', fc='tab:red')\n",
    "# ax.fill_between(x, y, 0, where=(y < 0), ec='none', fc='tab:blue')\n",
    "\n",
    "# g.add_horizon(plot_df, cut=0.1, palette='bluered_r')\n",
    "\n",
    "# new_ax = g.add_axes(1, hspace=0.5)\n",
    "# new_ax.fill_between(x, y, 0, where=(y > 0), ec='none', fc='tab:red')\n",
    "# new_ax.fill_between(x, y, 0, where=(y < 0), ec='none', fc='tab:blue')\n",
    "\n",
    "#coords = [(tup[0], (tup[1]+tup[2])/2, name) for name, tup in gi.gene_coord(cDEG_genes, species='papio_anubis', assembly='papAnu4').items()]\n",
    "#g.add_labels(coords)\n",
    "g.add_labels(coords, base=g.ideogram_base, min_height=g.ideogram_height*1.5, \n",
    "             zoom_base=g.ideogram_base, zoom_min_height=g.ideogram_height*1.2, color='black')\n",
    "g.add_legend()"
   ]
  },
  {
   "cell_type": "code",
   "execution_count": null,
   "id": "a1383319-7baa-4e69-9496-a82f77c8e7fd",
   "metadata": {},
   "outputs": [],
   "source": [
    "sheet.get('cDEG') << (sheet.get('ech90_regions') | sheet.get('hum_nean_admix')) << sheet.get('ari_relate_AFR') << sheet.get('accel_reg_simiiformes_br')"
   ]
  },
  {
   "cell_type": "code",
   "execution_count": null,
   "id": "b5ce7255-a516-4f33-8583-cafc7cea3463",
   "metadata": {},
   "outputs": [],
   "source": [
    "#| label: fig-macaque-hic-matrix\n",
    "\n",
    "import pywt\n",
    "import matplotlib\n",
    "\n",
    "pc = 1\n",
    "\n",
    "# first 3 eigenvectors\n",
    "cis_eigs = cooltools.eigs_cis(clr, gc_cov, view_df=view_df, n_eigs=3)\n",
    "\n",
    "# cis_eigs[0] are eigenvalues\n",
    "# cis_eigs[1] are eigenvectors\n",
    "eigenvector_track = cis_eigs[1][['chrom','start','end',f'E{pc}']]\n",
    "  \n",
    "eigenvector_track_chrX = eigenvector_track.loc[eigenvector_track['chrom'] == 'chrX']\n",
    "nbins = len(eigenvector_track_chrX)\n",
    "eigenvector_track_chrX\n",
    "eX_values = eigenvector_track_chrX[f'E{pc}'].values\n",
    "\n",
    "f, ax = plt.subplots(figsize=(9, 9))\n",
    "# norm = LogNorm(vmax=0.1)\n",
    "norm = LogNorm(vmax=0.005)\n",
    "\n",
    "mat = clr.matrix().fetch('chrX')\n",
    "lower = np.tril(mat, -1)\n",
    "\n",
    "mat = clr.matrix().fetch('chrX')\n",
    "base = np.nanmin(mat[np.nonzero(mat)])\n",
    "_mat = np.log(mat + base) / np.log(base)\n",
    "mra2 = pywt.mra2(_mat, wavelet='haar')\n",
    "_mat, decomp = mra2[0], mra2[1]\n",
    "_mat = base**_mat\n",
    "upper = np.triu(_mat, 1)\n",
    "\n",
    "n = len(upper) + 1\n",
    "ul_mat = np.eye(n)\n",
    "ul_mat[np.triu_indices(n, 1)] = upper[np.triu_indices(n-1)]\n",
    "ul_mat[np.tril_indices(n, -1)] = lower[np.tril_indices(n-1)]\n",
    "\n",
    "masked_array = ul_mat\n",
    "cmap = matplotlib.cm.YlOrRd  \n",
    "cmap.set_bad('black', alpha=0.1)\n",
    "im = ax.matshow(masked_array, norm=norm, \n",
    "               interpolation='nearest', \n",
    "               cmap=cmap)\n",
    "\n",
    "plt.axis([0,nbins,nbins,0])\n",
    "divider = make_axes_locatable(ax)\n",
    "cax = divider.append_axes(\"right\", size=\"3%\", pad=0.2)\n",
    "plt.colorbar(im, cax=cax, label='corrected frequencies');\n",
    "ax.set_ylabel('Position in Mb')\n",
    "yticks = np.array(ax.get_yticks())\n",
    "yticks, ylabels = zip(*[(y, l) for (y, l) in zip(yticks, (yticks * res + view_df.start[0]) / 1e6) if y < mat.shape[0]])\n",
    "ax.set_yticks(yticks, ylabels)\n",
    "ax.xaxis.set_visible(False)\n",
    "sns.despine()\n",
    "\n",
    "ax1 = divider.append_axes(\"top\", size=\"25%\", pad=0.05, sharex=ax)\n",
    "#weights = clr.bins()[:]['weight'].values\n",
    "#ax1.plot([0,nbins],[0,0],'k',lw=0.25)\n",
    "\n",
    "s = np.arange(len(eX_values))\n",
    "x = np.dstack((s, s+1)).flatten()\n",
    "y = np.repeat(eX_values, 2)\n",
    "ax1.fill_between(x, y, 0, where=(y > 0), ec='none', fc='tab:red')\n",
    "ax1.fill_between(x, y, 0, where=(y < 0), ec='none', fc='tab:blue')\n",
    "\n",
    "# ax1.fill_between(range(len(eX_values)), eX_values, 0, where=(eX_values > 0), ec='none', fc='tab:red')\n",
    "# ax1.fill_between(range(len(eX_values)), eX_values, 0, where=(eX_values < 0), ec='none', fc='tab:blue')\n",
    "\n",
    "ax1.hlines(np.repeat(-0.5, len(high_olive_rhemac10.start/res)), high_olive_rhemac10.start/res, high_olive_rhemac10.end/res, lw=8, colors='tab:green', capstyle='butt')\n",
    "ax1.hlines(np.repeat(-0.7, len(high_hama_rhemac10.start/res)), high_hama_rhemac10.start/res, high_hama_rhemac10.end/res, lw=8, colors='tab:blue', capstyle='butt')\n",
    "ax1.hlines(np.repeat(-0.9, len(ech90_human_Mmul_10.start/res)), ech90_human_Mmul_10.start/res, ech90_human_Mmul_10.end/res, lw=8, colors='tab:red', capstyle='butt')\n",
    "ax1.set_ylabel(f'E{pc}')\n",
    "ax1.set_xticks([]);\n",
    "ax1.set_yticks([]);\n",
    "ax1.get_subplotspec()\n",
    "ax1.set_axis_off()\n",
    "\n",
    "# for s, e in zip(olive_pure_segments.start, olive_pure_segments.end):\n",
    "#     ax.vlines(olive_pure_segments.start/100000, 0, nbins, lw=0.1, color='tab:green')\n",
    "#     ax.vlines(olive_pure_segments.end/100000, 0, nbins, lw=0.1, cocDEG_geneslor='tab:green')\n",
    "#     ax.hlines(olive_pure_segments.start/100000, 0, nbins, lw=0.1, color='tab:green')\n",
    "#     ax.hlines(olive_pure_segments.end/100000, 0, nbins, lw=0.1, color='tab:green')\n",
    "    \n",
    "# for s, e in zip(high_hama_rhemac10.start, high_hama_rhemac10.end):\n",
    "#     ax.vlines(high_hama_rhemac10.start/res, 0, nbins, lw=0.1, color='tab:blue')\n",
    "#     ax.vlines(high_hama_rhemac10.end/res, 0, nbins, lw=0.1, color='tab:blue')\n",
    "#     ax.hlines(high_hama_rhemac10.start/res, 0, nbins, lw=0.1, color='tab:blue')\n",
    "#     ax.hlines(high_hama_rhemac10.end/res, 0, nbins, lw=0.1, color='tab:blue')\n",
    "\n",
    "# for s, e in zip(ech90_human_Mmul_10.start, ech90_human_Mmul_10.end):\n",
    "#     ax.vlines(ech90_human_Mmul_10.start/100000, 0, nbins, lw=0.1, color='tab:brown')\n",
    "#     ax.vlines(ech90_human_Mmul_10.end/100000, 0, nbins, lw=0.1, color='tab:brown')\n",
    "#     ax.hlines(ech90_human_Mmul_10.start/100000, 0, nbins, lw=0.1, color='tab:brown')\n",
    "#     ax.hlines(ech90_human_Mmul_10.end/100000, 0, nbins, lw=0.1, color='tab:brown')\n",
    "\n",
    "#     ax1.vlines(ech90_human_Mmul_10.start/100000,  -1, 1, lw=0.1, color='tab:brown')\n",
    "#     ax1.vlines(ech90_human_Mmul_10.end/100000,  -1, 1, lw=0.1, color='tab:brown')\n",
    "\n",
    "\n",
    "# coords = [(tup[1]+tup[2])/2 for name, tup in gi.gene_coord(nDEG_genes, species='macaca_mulatta').items()]\n",
    "coords = gi.gene_labels(sheet.get('cDEG'), assembly='rheMac10')\n",
    "for chrom, pos, name in coords:\n",
    "    ax.vlines(pos/100000, 0, nbins, lw=0.5, color='black')\n",
    "    ax.hlines(pos/100000, 0, nbins, lw=0.5, color='black')\n",
    "\n",
    "    ax1.vlines(pos/100000,  -1, 1, lw=0.5, color='black')\n",
    "\n",
    "\n",
    "\n",
    "plt.tight_layout()\n",
    "\n",
    "# for i in np.where(np.diff( (cis_eigs[1][cis_eigs[1]['chrom']=='chrX'][f'E{pc}']>0).astype(int)))[0]:\n",
    "#     ax.plot([0,nbins],[i,i],'k',lw=0.2)\n",
    "#     ax.plot([i,i],[0,nbins],'k',lw=0.2)\n",
    "    \n",
    "#     ax1.plot([i,i],[0, -1],'k',lw=0.2)"
   ]
  },
  {
   "cell_type": "code",
   "execution_count": null,
   "id": "a2035149-fded-46bd-80b1-b891215adead",
   "metadata": {},
   "outputs": [],
   "source": [
    "upper = np.triu(mat, 0)\n",
    "lower = np.tril(mat, -1)\n",
    "\n",
    "n = len(upper) + 1\n",
    "out = np.eye(n)\n",
    "out[np.triu_indices(n, 1)] = upper[np.triu_indices(n-1)]\n",
    "out[np.tril_indices(n, -1)] = lower[np.tril_indices(n-1)]\n",
    "mat.shape"
   ]
  },
  {
   "cell_type": "code",
   "execution_count": null,
   "id": "bb53b206-8d2f-4240-8a5d-114640abcf71",
   "metadata": {},
   "outputs": [],
   "source": [
    "clr_path = \"../data/cooler/sperm.mcool\"\n",
    "res = 100000\n",
    "clr = cooler.Cooler(f\"{clr_path}::resolutions/{res}\")\n",
    "matrix = clr.matrix(balance=True).fetch('chrX') "
   ]
  },
  {
   "cell_type": "code",
   "execution_count": null,
   "id": "da65bf26-0b99-46ea-ac3d-539ca40fe544",
   "metadata": {},
   "outputs": [],
   "source": [
    "# Make the full view frame\n",
    "view_df = pd.DataFrame({\n",
    "    'chrom': clr.chromnames[-2],\n",
    "    'start': [0],\n",
    "    'end': clr.chromsizes.values[-2],\n",
    "    'name': clr.chromnames[-2]})"
   ]
  },
  {
   "cell_type": "code",
   "execution_count": null,
   "id": "0727694f-46a7-4a7f-9e55-9a0dba102e01",
   "metadata": {},
   "outputs": [],
   "source": [
    "bins = clr.bins().fetch('chrX')[:]\n",
    "out_name = f'../data/rheMac10_gc_cov_X_res{res//1000}kb.tsv'\n",
    "\n",
    "rheMac10 = bioframe.load_fasta('../data/rheMac10.fa')\n",
    "if not op.exists(out_name):\n",
    "    print('Calculate the fraction of GC basepairs for each bin')\n",
    "    gc_cov = bioframe.frac_gc(bins[['chrom', 'start', 'end']], rheMac10)\n",
    "    gc_cov.to_csv(out_name, index=False,sep='\\t')\n",
    "    print(gc_cov.info())\n",
    "else: \n",
    "    print(\"Already exists, read from file\")\n",
    "    gc_cov = pd.read_csv(out_name, sep='\\t')\n",
    "    print(gc_cov.info())"
   ]
  },
  {
   "cell_type": "code",
   "execution_count": null,
   "id": "c67db086-dd08-4bb0-8532-453dab155349",
   "metadata": {},
   "outputs": [],
   "source": [
    "pc = 1\n",
    "\n",
    "# first 3 eigenvectors\n",
    "cis_eigs = cooltools.eigs_cis(clr, gc_cov, view_df=view_df, n_eigs=3)\n",
    "\n",
    "# cis_eigs[0] are eigenvalues\n",
    "# cis_eigs[1] are eigenvectors\n",
    "eigenvector_track = cis_eigs[1][['chrom','start','end',f'E{pc}']]\n",
    "\n",
    "# subset the chrX   \n",
    "eigenvector_track_chrX = eigenvector_track.loc[eigenvector_track['chrom'] == 'chrX']\n",
    "nbins = len(eigenvector_track_chrX)\n",
    "eigenvector_track_chrX\n",
    "eX_values = eigenvector_track_chrX[f'E{pc}'].values\n",
    "\n",
    "f, ax = plt.subplots(figsize=(5, 5))\n",
    "norm = LogNorm(vmax=0.1)\n",
    "im = ax.matshow(clr.matrix().fetch('chrX'), norm=norm, cmap='viridis')"
   ]
  },
  {
   "cell_type": "code",
   "execution_count": null,
   "id": "607ee2fa-512e-492a-a48f-2238acf71640",
   "metadata": {},
   "outputs": [],
   "source": [
    "mat = clr.matrix().fetch('chrX')\n",
    "mat = np.log(mat + 1e-5) / np.log(1e-5)\n",
    "fig, ax = plt.subplots(figsize=(5, 5))\n",
    "ax.matshow(mat)"
   ]
  },
  {
   "cell_type": "code",
   "execution_count": null,
   "id": "7494c02d-2214-419b-bf53-745b9fbe2e8c",
   "metadata": {},
   "outputs": [],
   "source": [
    "pywt.wavelist('haar')"
   ]
  },
  {
   "cell_type": "code",
   "execution_count": null,
   "id": "9e5a7988-d54b-4d1b-a83d-763d6b202c96",
   "metadata": {},
   "outputs": [],
   "source": [
    "mra2 = pywt.mra2(mat, wavelet='haar')\n",
    "approx, decomp = mra2[0], mra2[1]\n",
    "fig, axes = plt.subplots(1, len(mra2), figsize=(12, 5))\n",
    "axes[0].matshow(approx, cmap='viridis')\n",
    "for ar, ax in zip(decomp, axes[1:]):\n",
    "    ax.matshow(ar, cmap='fall')"
   ]
  },
  {
   "cell_type": "code",
   "execution_count": null,
   "id": "b3d2ab8f-2037-4669-9588-7a6323ec795c",
   "metadata": {},
   "outputs": [],
   "source": [
    "# Import python package for working with cooler files and tools for analysis\n",
    "import cooler\n",
    "import cooltools.lib.plotting\n",
    "import cooltools\n",
    "\n",
    "mclr = \"../data/cooler/sperm.mcool\"\n",
    "\n",
    "clr = cooler.Cooler(f\"{mclr}::resolutions/100000\")"
   ]
  },
  {
   "cell_type": "code",
   "execution_count": null,
   "id": "10011aa6-59d5-441b-8c12-0b99607e698b",
   "metadata": {},
   "outputs": [],
   "source": [
    "from matplotlib.colors import LogNorm\n",
    "from mpl_toolkits.axes_grid1 import make_axes_locatable\n",
    "\n",
    "f, ax = plt.subplots(\n",
    "    figsize=(6, 6),\n",
    ")\n",
    "\n",
    "norm = LogNorm(vmax=0.1)\n",
    "\n",
    "im = ax.matshow(\n",
    "    clr.matrix().fetch('chrX'),\n",
    "    norm=norm,\n",
    "    cmap='fall',\n",
    ");\n",
    "#plt.axis([0,nbins,nbins,0])\n",
    "\n",
    "\n",
    "divider = make_axes_locatable(ax)\n",
    "cax = divider.append_axes(\"right\", size=\"5%\", pad=0.05)\n",
    "plt.colorbar(im, cax=cax, label='corrected frequencies');\n",
    "ax.set_ylabel('chrX:500kb bins, #bin')\n",
    "ax.xaxis.set_visible(False)\n",
    "\n",
    "# ax1 = divider.append_axes(\"top\", size=\"20%\", pad=0.05, sharex=ax)\n",
    "# #weights = clr.bins()[:]['weight'].values\n",
    "# #ax1.plot([0,nbins],[0,0],'k',lw=0.25)\n",
    "\n",
    "# #ax1.plot(e1X_values, label='E1')\n",
    "\n",
    "# # Fill between the line and 0\n",
    "# ax1.fill_between(range(len(e1X_values)), e1X_values, 0, where=(e1X_values > 0), color='tab:red')\n",
    "# ax1.fill_between(range(len(e1X_values)), e1X_values, 0, where=(e1X_values < 0), color='tab:blue')\n",
    "\n",
    "# ax1.set_ylabel('E1')\n",
    "# ax1.set_xticks([]);\n",
    "# ax1.get_subplotspec()\n",
    "\n",
    "\n",
    "# for i in np.where(np.diff( (cis_eigs[1][cis_eigs[1]['chrom']=='chrX']['E1']>0).astype(int)))[0]:\n",
    "#     # Horisontal lines where E1 intersects 0\n",
    "#     ax.plot([0,nbins],[i,i],'k',lw=0.4)\n",
    "\n",
    "#     # Vertical lines where E1 intersects 0\n",
    "#     ax.plot([i,i],[0,nbins],'k',lw=0.4)"
   ]
  },
  {
   "cell_type": "raw",
   "id": "0d33d65c-efdb-4154-9d05-7338bf489772",
   "metadata": {},
   "source": [
    "/\n",
    " ├── chroms\n",
    " │   ├── length (24,) int32\n",
    " │   └── name (24,) |S64\n",
    " ├── bins\n",
    " │   ├── chrom (3088281,) int32\n",
    " │   ├── start (3088281,) int32\n",
    " │   ├── end (3088281,) int32\n",
    " │   └── weight (3088281,) float64\n",
    " ├── pixels\n",
    " │   ├── bin1_id (271958554,) int64\n",
    " │   ├── bin2_id (271958554,) int64\n",
    " │   └── count (271958554,) int32\n",
    " └── indexes\n",
    "     ├── bin1_offset (3088282,) int64\n",
    "     └── chrom_offset (25,) int64"
   ]
  },
  {
   "cell_type": "markdown",
   "id": "65253750-cdd5-408b-b85c-eca7dcbfbb93",
   "metadata": {},
   "source": [
    "## UMAP"
   ]
  },
  {
   "cell_type": "code",
   "execution_count": null,
   "id": "e3d57cdf-1642-4e63-b8a5-582cc1436870",
   "metadata": {},
   "outputs": [],
   "source": [
    "# penguins = pd.read_csv(\"https://raw.githubusercontent.com/allisonhorst/palmerpenguins/c19a904462482430170bfe2c718775ddb7dbb885/inst/extdata/penguins.csv\")\n",
    "# penguins.head()"
   ]
  },
  {
   "cell_type": "code",
   "execution_count": null,
   "id": "f58d12d9-f3ec-4539-9967-60b2b557d483",
   "metadata": {},
   "outputs": [],
   "source": [
    "np.isnan(mat)"
   ]
  },
  {
   "cell_type": "code",
   "execution_count": null,
   "id": "67548071-c652-4a63-ac4f-a960be05319b",
   "metadata": {},
   "outputs": [],
   "source": [
    "#penguins = penguins.dropna()\n",
    "mat = clr.matrix().fetch('chrX')\n",
    "\n",
    "# mask = ~np.isnan(mat).any(axis=1)\n",
    "mat = mat[~np.isnan(mat).all(axis=1), :]\n",
    "# mat = mat[:, ~np.isnan(mat).all(axis=0)]\n",
    "mat = mat[:, ~np.isnan(mat).all(axis=0)]\n",
    "mat"
   ]
  },
  {
   "cell_type": "code",
   "execution_count": null,
   "id": "f60dc85d-8b93-4ca8-8f27-1a03f66249b8",
   "metadata": {},
   "outputs": [],
   "source": [
    "reducer = umap.UMAP()"
   ]
  },
  {
   "cell_type": "code",
   "execution_count": null,
   "id": "dd0b40f7-9a46-411f-9b9f-c91824173987",
   "metadata": {},
   "outputs": [],
   "source": [
    "# penguin_data = penguins[\n",
    "#     [\n",
    "#         \"bill_length_mm\",\n",
    "#         \"bill_depth_mm\",\n",
    "#         \"flipper_length_mm\",\n",
    "#         \"body_mass_g\",\n",
    "#     ]\n",
    "# ].values\n",
    "# penguin_data"
   ]
  },
  {
   "cell_type": "code",
   "execution_count": null,
   "id": "3e5deaaa-b335-42a8-8516-49179c12dfb9",
   "metadata": {},
   "outputs": [],
   "source": [
    "#scaled_penguin_data = StandardScaler().fit_transform(penguin_data)\n",
    "# scaled_penguin_data\n",
    "scaled_matrix = StandardScaler().fit_transform(mat)\n",
    "scaled_matrix"
   ]
  },
  {
   "cell_type": "code",
   "execution_count": null,
   "id": "91251792-662c-47af-a6d8-b67649467c50",
   "metadata": {},
   "outputs": [],
   "source": [
    "# embedding = reducer.fit_transform(scaled_penguin_data)\n",
    "embedding = reducer.fit_transform(scaled_matrix)\n",
    "embedding.shape"
   ]
  },
  {
   "cell_type": "code",
   "execution_count": null,
   "id": "22aeb8f7-9543-4a46-b5e5-c082421c65e2",
   "metadata": {},
   "outputs": [],
   "source": [
    "plt.scatter(\n",
    "    embedding[:, 0],\n",
    "    embedding[:, 1],\n",
    "    c=np.arange(0, embedding.shape[0]),\n",
    "    cmap='rainbow',\n",
    "    s=5\n",
    "    # c=[sns.color_palette()[x] for x in penguins.species.map({\"Adelie\":0, \"Chinstrap\":1, \"Gentoo\":2})]\n",
    ")\n",
    "plt.gca().set_aspect('equal', 'datalim')"
   ]
  },
  {
   "cell_type": "code",
   "execution_count": null,
   "id": "074c60f2-903a-40b9-a8e5-9969cdd946b2",
   "metadata": {},
   "outputs": [],
   "source": [
    "mapper = umap.UMAP().fit(scaled_matrix)\n",
    "\n",
    "umap.plot.points(mapper);"
   ]
  },
  {
   "cell_type": "code",
   "execution_count": null,
   "id": "9236364e-aca1-4ddd-b025-fcc9112ba494",
   "metadata": {},
   "outputs": [],
   "source": [
    "import umap.plot\n",
    "umap.plot.output_notebook()"
   ]
  },
  {
   "cell_type": "code",
   "execution_count": null,
   "id": "1e67e3a5-8f5d-4fb0-bdf6-404ea8246dc5",
   "metadata": {},
   "outputs": [],
   "source": [
    "umap.plot.connectivity(mapper, show_points=True);"
   ]
  },
  {
   "cell_type": "code",
   "execution_count": null,
   "id": "0d933bca-8825-40cb-a563-b50261b323df",
   "metadata": {},
   "outputs": [],
   "source": [
    "umap.plot.connectivity(mapper, show_points=True, edge_bundling='hammer')"
   ]
  },
  {
   "cell_type": "code",
   "execution_count": null,
   "id": "82a6336e-1372-4287-a974-f3067a6b537b",
   "metadata": {},
   "outputs": [],
   "source": [
    "np.arange(0,scaled_matrix.shape[0]"
   ]
  },
  {
   "cell_type": "markdown",
   "id": "1ae9a609-356b-442b-9048-2a73325359d4",
   "metadata": {},
   "source": [
    "mat"
   ]
  },
  {
   "cell_type": "code",
   "execution_count": null,
   "id": "44982c1a-71a1-4f86-8e0a-1c5b9e5b7a06",
   "metadata": {},
   "outputs": [],
   "source": [
    "umap.plot.points(mapper, values=np.arange(0, scaled_matrix.shape[0]), cmap='rainbow')\n",
    "umap.plot.connectivity(mapper, show_points=True, edge_bundling='hammer')"
   ]
  },
  {
   "cell_type": "code",
   "execution_count": null,
   "id": "9b2e4c5a-bd49-4c32-a85a-63d1f3c75f5f",
   "metadata": {},
   "outputs": [],
   "source": [
    "umap.plot.diagnostic(mapper, diagnostic_type='pca') ; \n"
   ]
  },
  {
   "cell_type": "code",
   "execution_count": null,
   "id": "31be2be7-568e-4fc9-a3c8-eb2836da143c",
   "metadata": {},
   "outputs": [],
   "source": [
    "umap.plot.diagnostic(mapper, diagnostic_type='vq') ;"
   ]
  },
  {
   "cell_type": "code",
   "execution_count": null,
   "id": "bc8de352-95c8-4a84-8c4b-31d6a48f2cf9",
   "metadata": {},
   "outputs": [],
   "source": [
    "local_dims = umap.plot.diagnostic(mapper, diagnostic_type='local_dim') ;"
   ]
  },
  {
   "cell_type": "code",
   "execution_count": null,
   "id": "ec6ad85d-18d7-4374-b1df-22d8bf1f0745",
   "metadata": {},
   "outputs": [],
   "source": [
    "umap.plot.diagnostic(mapper, diagnostic_type='neighborhood') ;"
   ]
  },
  {
   "cell_type": "code",
   "execution_count": null,
   "id": "46aee1ba-2752-44b2-b164-798dd947e8b4",
   "metadata": {},
   "outputs": [],
   "source": [
    "fig = plt.figure()\n",
    "ax = fig.add_subplot(projection='3d')\n",
    "\n",
    "ax.scatter(\n",
    "    embedding[:, 0],\n",
    "    embedding[:, 1],\n",
    "    c=np.arange(0, embedding.shape[0]),\n",
    "    cmap='rainbow'\n",
    "    # c=[sns.color_palette()[x] for x in penguins.species.map({\"Adelie\":0, \"Chinstrap\":1, \"Gentoo\":2})]\n",
    ")\n",
    "plt.gca().set_aspect('equal', 'datalim')\n",
    "\n"
   ]
  },
  {
   "cell_type": "markdown",
   "id": "ca06ad00-e17f-4b88-bdec-f2c6a4093cef",
   "metadata": {},
   "source": [
    "## Try to make plot recombination rate to see if it is lower in pure regions"
   ]
  },
  {
   "cell_type": "code",
   "execution_count": null,
   "id": "ceb7aedf-ddb0-4d26-95b8-43371d4128b2",
   "metadata": {},
   "outputs": [],
   "source": []
  }
 ],
 "metadata": {
  "kernelspec": {
   "display_name": "Python 3 (ipykernel)",
   "language": "python",
   "name": "python3"
  },
  "language_info": {
   "codemirror_mode": {
    "name": "ipython",
    "version": 3
   },
   "file_extension": ".py",
   "mimetype": "text/x-python",
   "name": "python",
   "nbconvert_exporter": "python",
   "pygments_lexer": "ipython3",
   "version": "3.10.16"
  },
  "widgets": {
   "application/vnd.jupyter.widget-state+json": {
    "state": {},
    "version_major": 2,
    "version_minor": 0
   }
  }
 },
 "nbformat": 4,
 "nbformat_minor": 5
}
